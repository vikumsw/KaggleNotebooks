{
 "cells": [
  {
   "cell_type": "markdown",
   "metadata": {},
   "source": [
    "## Hello Kaggler!\n",
    "## <span style=\"color:PURPLE\">Objective of this kernal is to provide an understanding on the basic workflow in a predictive modeling problem</span>.\n",
    "\n"
   ]
  },
  {
   "cell_type": "markdown",
   "metadata": {},
   "source": [
    "---\n",
    "### So ...\n",
    "### **IF** : <span style=\"color:BLACK\">you are new to data science and yet to  write your first kernel on a predictive modeling problem</span> -> <span style=\"color:BROWN\">I bet you will get something reading this.</span>\n",
    "### **ELSE** -> <span style=\"color:BROWN\">I bet that your feedback will definetly help me improving this kernal. So please.. :)</span>\n",
    "---"
   ]
  },
  {
   "cell_type": "markdown",
   "metadata": {},
   "source": [
    "## **Basic workflow in a predictive modeling problem**\n",
    "\n",
    "<center><span style=\"color:blue\">**Exploratory Data Analysis**</span> -> <span style=\"color:green\">**Feature Engineering and Data Cleaning**</span> -> <span style=\"color:red\">**Predictive Modeling**</span></center>.\n",
    "\n",
    "1. First we need to see what the data can tell us: We call this <span style=\"color:blue\">**Exploratory Data Analysis(EDA)**</span>. Here we look at data which is hidden in rows and column format and try to visualize, summarize and interprete it looking for information.\n",
    "1. Next we can leverage domain knowledge to boost machine learning model performance. We call this step, <span style=\"color:green\">**Feature Engineering and Data Cleaning**</span>. In this step we might add few features, Remove redundant features, Converting features into suitable form for modeling.\n",
    "1. Then we can move on to the <span style=\"color:red\">**Predictive Modeling**</span>. Here we try basic ML algorthms, cross validate, ensemble and Important feature Extraction.\n",
    "\n",
    "---"
   ]
  },
  {
   "cell_type": "markdown",
   "metadata": {},
   "source": [
    "# Now with the big picture in mind, let's start!\n",
    "\n",
    "\n",
    "## First and foremost let's feel it.\n",
    "\n",
    "## Titanic : The Unsinkable Ship and the Iceberg\n",
    "\n",
    "“Fifteen-hundred people went into the sea, when Titanic sank from under us. There were twenty boats floating nearby… and only one came back. One. Six were saved from the water, myself included. Six… out of fifteen-hundred. Afterward, the seven-hundred people in the boats had nothing to do but wait… wait to die… wait to live… wait for an absolution… that would never come.”\n",
    "—Rose\n",
    "\n",
    "\n",
    "RMS Titanic sank in the early morning of 15 April 1912 in the North Atlantic Ocean, four days into the ship's maiden voyage from Southampton to New York City. The largest ocean liner in service at the time, Titanic had an estimated 2,224 people on board when she struck an iceberg at around 23:40 (ship's time) on Sunday, 14 April 1912. Her sinking two hours and forty minutes later at 02:20 (ship's time; 05:18 GMT) on Monday, 15 April, resulted in the deaths of more than 1,500 people, making it one of history's deadliest marine disasters during peacetime\n",
    "-*Wikipedia*[](http://)"
   ]
  },
  {
   "cell_type": "markdown",
   "metadata": {},
   "source": [
    "---\n",
    "\n",
    "# PART 1 : Exploratory Data Analysis (EDA)\n",
    "\n",
    "With the objective in mind that this kernal aims to explain the workflow of a predictive modelling problem for begginers, I will try to use simple easy to understand visualizations in the EDA part. Kernals with more advanced EDA sections will be mentioned at the end for you to learn more."
   ]
  },
  {
   "cell_type": "code",
   "execution_count": 1,
   "metadata": {
    "_cell_guid": "b1076dfc-b9ad-4769-8c92-a6c4dae69d19",
    "_uuid": "8f2839f25d086af736a60e9eeb907d3b93b6e0e5"
   },
   "outputs": [],
   "source": [
    "# Python 3 environment comes with many helpful analytics libraries installed\n",
    "# For example, here's several helpful packages to load in \n",
    "import numpy as np # linear algebra\n",
    "import pandas as pd # data processing, CSV file I/O (e.g. pd.read_csv)\n",
    "import matplotlib.pyplot as plt\n",
    "import seaborn as sns\n",
    "import os"
   ]
  },
  {
   "cell_type": "code",
   "execution_count": 2,
   "metadata": {},
   "outputs": [],
   "source": [
    "# Read data to a pandas data frame\n",
    "data=pd.read_csv('../input/train.csv')"
   ]
  },
  {
   "cell_type": "code",
   "execution_count": 3,
   "metadata": {},
   "outputs": [
    {
     "data": {
      "text/html": [
       "<div>\n",
       "<style scoped>\n",
       "    .dataframe tbody tr th:only-of-type {\n",
       "        vertical-align: middle;\n",
       "    }\n",
       "\n",
       "    .dataframe tbody tr th {\n",
       "        vertical-align: top;\n",
       "    }\n",
       "\n",
       "    .dataframe thead th {\n",
       "        text-align: right;\n",
       "    }\n",
       "</style>\n",
       "<table border=\"1\" class=\"dataframe\">\n",
       "  <thead>\n",
       "    <tr style=\"text-align: right;\">\n",
       "      <th></th>\n",
       "      <th>PassengerId</th>\n",
       "      <th>Survived</th>\n",
       "      <th>Pclass</th>\n",
       "      <th>Name</th>\n",
       "      <th>Sex</th>\n",
       "      <th>Age</th>\n",
       "      <th>SibSp</th>\n",
       "      <th>Parch</th>\n",
       "      <th>Ticket</th>\n",
       "      <th>Fare</th>\n",
       "      <th>Cabin</th>\n",
       "      <th>Embarked</th>\n",
       "    </tr>\n",
       "  </thead>\n",
       "  <tbody>\n",
       "    <tr>\n",
       "      <th>0</th>\n",
       "      <td>1</td>\n",
       "      <td>0</td>\n",
       "      <td>3</td>\n",
       "      <td>Braund, Mr. Owen Harris</td>\n",
       "      <td>male</td>\n",
       "      <td>22.0</td>\n",
       "      <td>1</td>\n",
       "      <td>0</td>\n",
       "      <td>A/5 21171</td>\n",
       "      <td>7.2500</td>\n",
       "      <td>NaN</td>\n",
       "      <td>S</td>\n",
       "    </tr>\n",
       "    <tr>\n",
       "      <th>1</th>\n",
       "      <td>2</td>\n",
       "      <td>1</td>\n",
       "      <td>1</td>\n",
       "      <td>Cumings, Mrs. John Bradley (Florence Briggs Th...</td>\n",
       "      <td>female</td>\n",
       "      <td>38.0</td>\n",
       "      <td>1</td>\n",
       "      <td>0</td>\n",
       "      <td>PC 17599</td>\n",
       "      <td>71.2833</td>\n",
       "      <td>C85</td>\n",
       "      <td>C</td>\n",
       "    </tr>\n",
       "    <tr>\n",
       "      <th>2</th>\n",
       "      <td>3</td>\n",
       "      <td>1</td>\n",
       "      <td>3</td>\n",
       "      <td>Heikkinen, Miss. Laina</td>\n",
       "      <td>female</td>\n",
       "      <td>26.0</td>\n",
       "      <td>0</td>\n",
       "      <td>0</td>\n",
       "      <td>STON/O2. 3101282</td>\n",
       "      <td>7.9250</td>\n",
       "      <td>NaN</td>\n",
       "      <td>S</td>\n",
       "    </tr>\n",
       "    <tr>\n",
       "      <th>3</th>\n",
       "      <td>4</td>\n",
       "      <td>1</td>\n",
       "      <td>1</td>\n",
       "      <td>Futrelle, Mrs. Jacques Heath (Lily May Peel)</td>\n",
       "      <td>female</td>\n",
       "      <td>35.0</td>\n",
       "      <td>1</td>\n",
       "      <td>0</td>\n",
       "      <td>113803</td>\n",
       "      <td>53.1000</td>\n",
       "      <td>C123</td>\n",
       "      <td>S</td>\n",
       "    </tr>\n",
       "    <tr>\n",
       "      <th>4</th>\n",
       "      <td>5</td>\n",
       "      <td>0</td>\n",
       "      <td>3</td>\n",
       "      <td>Allen, Mr. William Henry</td>\n",
       "      <td>male</td>\n",
       "      <td>35.0</td>\n",
       "      <td>0</td>\n",
       "      <td>0</td>\n",
       "      <td>373450</td>\n",
       "      <td>8.0500</td>\n",
       "      <td>NaN</td>\n",
       "      <td>S</td>\n",
       "    </tr>\n",
       "  </tbody>\n",
       "</table>\n",
       "</div>"
      ],
      "text/plain": [
       "   PassengerId  Survived  Pclass    ...        Fare Cabin  Embarked\n",
       "0            1         0       3    ...      7.2500   NaN         S\n",
       "1            2         1       1    ...     71.2833   C85         C\n",
       "2            3         1       3    ...      7.9250   NaN         S\n",
       "3            4         1       1    ...     53.1000  C123         S\n",
       "4            5         0       3    ...      8.0500   NaN         S\n",
       "\n",
       "[5 rows x 12 columns]"
      ]
     },
     "execution_count": 3,
     "metadata": {},
     "output_type": "execute_result"
    }
   ],
   "source": [
    "# lets have a look on first few rows\n",
    "data.head()"
   ]
  },
  {
   "cell_type": "code",
   "execution_count": 4,
   "metadata": {},
   "outputs": [],
   "source": [
    "# -- Shape of Our Data set?\n",
    "# Distinct values in each columns\n",
    "# what is meant by each column\n",
    "# Distribution of the data\n",
    "# -- Null value counts in each column"
   ]
  },
  {
   "cell_type": "code",
   "execution_count": 5,
   "metadata": {},
   "outputs": [
    {
     "data": {
      "text/plain": [
       "(891, 12)"
      ]
     },
     "execution_count": 5,
     "metadata": {},
     "output_type": "execute_result"
    }
   ],
   "source": [
    "# Checking shape of our data set\n",
    "data.shape"
   ]
  },
  {
   "cell_type": "markdown",
   "metadata": {},
   "source": [
    "* We have 891 data points (rows); each data point has 12 columns."
   ]
  },
  {
   "cell_type": "code",
   "execution_count": 6,
   "metadata": {},
   "outputs": [
    {
     "data": {
      "text/plain": [
       "PassengerId      0\n",
       "Survived         0\n",
       "Pclass           0\n",
       "Name             0\n",
       "Sex              0\n",
       "Age            177\n",
       "SibSp            0\n",
       "Parch            0\n",
       "Ticket           0\n",
       "Fare             0\n",
       "Cabin          687\n",
       "Embarked         2\n",
       "dtype: int64"
      ]
     },
     "execution_count": 6,
     "metadata": {},
     "output_type": "execute_result"
    }
   ],
   "source": [
    "#checking for null value counts in each column\n",
    "data.isnull().sum()"
   ]
  },
  {
   "cell_type": "markdown",
   "metadata": {},
   "source": [
    "* The Age, Cabin and Embarked have null values."
   ]
  },
  {
   "cell_type": "markdown",
   "metadata": {},
   "source": [
    "## Lets look at overall survival stats"
   ]
  },
  {
   "cell_type": "code",
   "execution_count": 7,
   "metadata": {},
   "outputs": [
    {
     "data": {
      "image/png": "[encoded data removed]",
      "text/plain": [
       "<Figure size 1296x576 with 2 Axes>"
      ]
     },
     "metadata": {},
     "output_type": "display_data"
    }
   ],
   "source": [
    "f,ax=plt.subplots(1,2,figsize=(18,8))\n",
    "data['Survived'].value_counts().plot.pie(explode=[0,0.05],autopct='%1.1f%%',ax=ax[0],shadow=True)\n",
    "ax[0].set_title('Survived')\n",
    "ax[0].set_ylabel('')\n",
    "sns.countplot('Survived',data=data,ax=ax[1])\n",
    "ax[1].set_title('Survived')\n",
    "plt.show()"
   ]
  },
  {
   "cell_type": "markdown",
   "metadata": {},
   "source": [
    "* Sad Story! Only 38% have survived. That is roughly 340 out of 891. "
   ]
  },
  {
   "cell_type": "markdown",
   "metadata": {},
   "source": [
    "## Let's analyse features "
   ]
  },
  {
   "cell_type": "markdown",
   "metadata": {},
   "source": [
    "### Sex"
   ]
  },
  {
   "cell_type": "code",
   "execution_count": 8,
   "metadata": {},
   "outputs": [
    {
     "data": {
      "text/plain": [
       "Sex     Survived\n",
       "female  0            81\n",
       "        1           233\n",
       "male    0           468\n",
       "        1           109\n",
       "Name: Survived, dtype: int64"
      ]
     },
     "execution_count": 8,
     "metadata": {},
     "output_type": "execute_result"
    }
   ],
   "source": [
    "data.groupby(['Sex','Survived'])['Survived'].count()"
   ]
  },
  {
   "cell_type": "code",
   "execution_count": 9,
   "metadata": {},
   "outputs": [
    {
     "data": {
      "image/png": "[encoded data removed]",
      "text/plain": [
       "<Figure size 1296x576 with 2 Axes>"
      ]
     },
     "metadata": {},
     "output_type": "display_data"
    }
   ],
   "source": [
    "f,ax=plt.subplots(1,2,figsize=(18,8))\n",
    "data[['Sex','Survived']].groupby(['Sex']).mean().plot.bar(ax=ax[0])\n",
    "ax[0].set_title('Survived vs Sex')\n",
    "sns.countplot('Sex',hue='Survived',data=data,ax=ax[1])\n",
    "ax[1].set_title('Sex:Survived vs Dead')\n",
    "plt.show()"
   ]
  },
  {
   "cell_type": "markdown",
   "metadata": {},
   "source": [
    "* While survival rate for female is around 75%, same for men is about 20%. Looks like Sex is a good predictor on the survival."
   ]
  },
  {
   "cell_type": "markdown",
   "metadata": {},
   "source": [
    "### Pclass\n",
    "**Meaning :** Ticket class : 1 = 1st, 2 = 2nd, 3 = 3rd"
   ]
  },
  {
   "cell_type": "code",
   "execution_count": 10,
   "metadata": {},
   "outputs": [
    {
     "data": {
      "text/html": [
       "<style  type=\"text/css\" >\n",
       "    #T_ba56b9ea_8093_11e9_a6c1_0242ac130002row0_col0 {\n",
       "            background-color:  #ffff66;\n",
       "        }    #T_ba56b9ea_8093_11e9_a6c1_0242ac130002row0_col1 {\n",
       "            background-color:  #cee666;\n",
       "        }    #T_ba56b9ea_8093_11e9_a6c1_0242ac130002row0_col2 {\n",
       "            background-color:  #f4fa66;\n",
       "        }    #T_ba56b9ea_8093_11e9_a6c1_0242ac130002row1_col0 {\n",
       "            background-color:  #f6fa66;\n",
       "        }    #T_ba56b9ea_8093_11e9_a6c1_0242ac130002row1_col1 {\n",
       "            background-color:  #ffff66;\n",
       "        }    #T_ba56b9ea_8093_11e9_a6c1_0242ac130002row1_col2 {\n",
       "            background-color:  #ffff66;\n",
       "        }    #T_ba56b9ea_8093_11e9_a6c1_0242ac130002row2_col0 {\n",
       "            background-color:  #60b066;\n",
       "        }    #T_ba56b9ea_8093_11e9_a6c1_0242ac130002row2_col1 {\n",
       "            background-color:  #dfef66;\n",
       "        }    #T_ba56b9ea_8093_11e9_a6c1_0242ac130002row2_col2 {\n",
       "            background-color:  #90c866;\n",
       "        }    #T_ba56b9ea_8093_11e9_a6c1_0242ac130002row3_col0 {\n",
       "            background-color:  #008066;\n",
       "        }    #T_ba56b9ea_8093_11e9_a6c1_0242ac130002row3_col1 {\n",
       "            background-color:  #008066;\n",
       "        }    #T_ba56b9ea_8093_11e9_a6c1_0242ac130002row3_col2 {\n",
       "            background-color:  #008066;\n",
       "        }</style>  \n",
       "<table id=\"T_ba56b9ea_8093_11e9_a6c1_0242ac130002\" > \n",
       "<thead>    <tr> \n",
       "        <th class=\"index_name level0\" >Survived</th> \n",
       "        <th class=\"col_heading level0 col0\" >0</th> \n",
       "        <th class=\"col_heading level0 col1\" >1</th> \n",
       "        <th class=\"col_heading level0 col2\" >All</th> \n",
       "    </tr>    <tr> \n",
       "        <th class=\"index_name level0\" >Pclass</th> \n",
       "        <th class=\"blank\" ></th> \n",
       "        <th class=\"blank\" ></th> \n",
       "        <th class=\"blank\" ></th> \n",
       "    </tr></thead> \n",
       "<tbody>    <tr> \n",
       "        <th id=\"T_ba56b9ea_8093_11e9_a6c1_0242ac130002level0_row0\" class=\"row_heading level0 row0\" >1</th> \n",
       "        <td id=\"T_ba56b9ea_8093_11e9_a6c1_0242ac130002row0_col0\" class=\"data row0 col0\" >80</td> \n",
       "        <td id=\"T_ba56b9ea_8093_11e9_a6c1_0242ac130002row0_col1\" class=\"data row0 col1\" >136</td> \n",
       "        <td id=\"T_ba56b9ea_8093_11e9_a6c1_0242ac130002row0_col2\" class=\"data row0 col2\" >216</td> \n",
       "    </tr>    <tr> \n",
       "        <th id=\"T_ba56b9ea_8093_11e9_a6c1_0242ac130002level0_row1\" class=\"row_heading level0 row1\" >2</th> \n",
       "        <td id=\"T_ba56b9ea_8093_11e9_a6c1_0242ac130002row1_col0\" class=\"data row1 col0\" >97</td> \n",
       "        <td id=\"T_ba56b9ea_8093_11e9_a6c1_0242ac130002row1_col1\" class=\"data row1 col1\" >87</td> \n",
       "        <td id=\"T_ba56b9ea_8093_11e9_a6c1_0242ac130002row1_col2\" class=\"data row1 col2\" >184</td> \n",
       "    </tr>    <tr> \n",
       "        <th id=\"T_ba56b9ea_8093_11e9_a6c1_0242ac130002level0_row2\" class=\"row_heading level0 row2\" >3</th> \n",
       "        <td id=\"T_ba56b9ea_8093_11e9_a6c1_0242ac130002row2_col0\" class=\"data row2 col0\" >372</td> \n",
       "        <td id=\"T_ba56b9ea_8093_11e9_a6c1_0242ac130002row2_col1\" class=\"data row2 col1\" >119</td> \n",
       "        <td id=\"T_ba56b9ea_8093_11e9_a6c1_0242ac130002row2_col2\" class=\"data row2 col2\" >491</td> \n",
       "    </tr>    <tr> \n",
       "        <th id=\"T_ba56b9ea_8093_11e9_a6c1_0242ac130002level0_row3\" class=\"row_heading level0 row3\" >All</th> \n",
       "        <td id=\"T_ba56b9ea_8093_11e9_a6c1_0242ac130002row3_col0\" class=\"data row3 col0\" >549</td> \n",
       "        <td id=\"T_ba56b9ea_8093_11e9_a6c1_0242ac130002row3_col1\" class=\"data row3 col1\" >342</td> \n",
       "        <td id=\"T_ba56b9ea_8093_11e9_a6c1_0242ac130002row3_col2\" class=\"data row3 col2\" >891</td> \n",
       "    </tr></tbody> \n",
       "</table> "
      ],
      "text/plain": [
       "<pandas.io.formats.style.Styler at 0x7fcf59b66c88>"
      ]
     },
     "execution_count": 10,
     "metadata": {},
     "output_type": "execute_result"
    }
   ],
   "source": [
    "pd.crosstab(data.Pclass,data.Survived,margins=True).style.background_gradient(cmap='summer_r')"
   ]
  },
  {
   "cell_type": "code",
   "execution_count": 11,
   "metadata": {},
   "outputs": [
    {
     "data": {
      "image/png": "[encoded data removed]",
      "text/plain": [
       "<Figure size 1296x576 with 2 Axes>"
      ]
     },
     "metadata": {},
     "output_type": "display_data"
    }
   ],
   "source": [
    "f,ax=plt.subplots(1,2,figsize=(18,8))\n",
    "data['Pclass'].value_counts().plot.bar(color=['#CD7F32','#FFDF00','#D3D3D3'],ax=ax[0])\n",
    "ax[0].set_title('Number Of Passengers By Pclass')\n",
    "ax[0].set_ylabel('Count')\n",
    "sns.countplot('Pclass',hue='Survived',data=data,ax=ax[1])\n",
    "ax[1].set_title('Pclass:Survived vs Dead')\n",
    "plt.show()"
   ]
  },
  {
   "cell_type": "markdown",
   "metadata": {},
   "source": [
    "* For Pclass 1 %survived is around 63%, for Pclass2 is around 48% and for Pclass2 is around 25%. So its clear that higher classes had higher priority while rescue."
   ]
  },
  {
   "cell_type": "markdown",
   "metadata": {},
   "source": [
    "### Lets check survival rate with Sex and Pclass Together"
   ]
  },
  {
   "cell_type": "code",
   "execution_count": 12,
   "metadata": {},
   "outputs": [
    {
     "data": {
      "text/html": [
       "<style  type=\"text/css\" >\n",
       "    #T_bab69144_8093_11e9_a6c1_0242ac130002row0_col0 {\n",
       "            background-color:  #ffff66;\n",
       "        }    #T_bab69144_8093_11e9_a6c1_0242ac130002row0_col1 {\n",
       "            background-color:  #ffff66;\n",
       "        }    #T_bab69144_8093_11e9_a6c1_0242ac130002row0_col2 {\n",
       "            background-color:  #f1f866;\n",
       "        }    #T_bab69144_8093_11e9_a6c1_0242ac130002row0_col3 {\n",
       "            background-color:  #ffff66;\n",
       "        }    #T_bab69144_8093_11e9_a6c1_0242ac130002row1_col0 {\n",
       "            background-color:  #96cb66;\n",
       "        }    #T_bab69144_8093_11e9_a6c1_0242ac130002row1_col1 {\n",
       "            background-color:  #a3d166;\n",
       "        }    #T_bab69144_8093_11e9_a6c1_0242ac130002row1_col2 {\n",
       "            background-color:  #f1f866;\n",
       "        }    #T_bab69144_8093_11e9_a6c1_0242ac130002row1_col3 {\n",
       "            background-color:  #cfe766;\n",
       "        }    #T_bab69144_8093_11e9_a6c1_0242ac130002row2_col0 {\n",
       "            background-color:  #a7d366;\n",
       "        }    #T_bab69144_8093_11e9_a6c1_0242ac130002row2_col1 {\n",
       "            background-color:  #85c266;\n",
       "        }    #T_bab69144_8093_11e9_a6c1_0242ac130002row2_col2 {\n",
       "            background-color:  #6eb666;\n",
       "        }    #T_bab69144_8093_11e9_a6c1_0242ac130002row2_col3 {\n",
       "            background-color:  #85c266;\n",
       "        }    #T_bab69144_8093_11e9_a6c1_0242ac130002row3_col0 {\n",
       "            background-color:  #cde666;\n",
       "        }    #T_bab69144_8093_11e9_a6c1_0242ac130002row3_col1 {\n",
       "            background-color:  #f0f866;\n",
       "        }    #T_bab69144_8093_11e9_a6c1_0242ac130002row3_col2 {\n",
       "            background-color:  #ffff66;\n",
       "        }    #T_bab69144_8093_11e9_a6c1_0242ac130002row3_col3 {\n",
       "            background-color:  #f7fb66;\n",
       "        }    #T_bab69144_8093_11e9_a6c1_0242ac130002row4_col0 {\n",
       "            background-color:  #008066;\n",
       "        }    #T_bab69144_8093_11e9_a6c1_0242ac130002row4_col1 {\n",
       "            background-color:  #008066;\n",
       "        }    #T_bab69144_8093_11e9_a6c1_0242ac130002row4_col2 {\n",
       "            background-color:  #008066;\n",
       "        }    #T_bab69144_8093_11e9_a6c1_0242ac130002row4_col3 {\n",
       "            background-color:  #008066;\n",
       "        }</style>  \n",
       "<table id=\"T_bab69144_8093_11e9_a6c1_0242ac130002\" > \n",
       "<thead>    <tr> \n",
       "        <th class=\"blank\" ></th> \n",
       "        <th class=\"index_name level0\" >Pclass</th> \n",
       "        <th class=\"col_heading level0 col0\" >1</th> \n",
       "        <th class=\"col_heading level0 col1\" >2</th> \n",
       "        <th class=\"col_heading level0 col2\" >3</th> \n",
       "        <th class=\"col_heading level0 col3\" >All</th> \n",
       "    </tr>    <tr> \n",
       "        <th class=\"index_name level0\" >Sex</th> \n",
       "        <th class=\"index_name level1\" >Survived</th> \n",
       "        <th class=\"blank\" ></th> \n",
       "        <th class=\"blank\" ></th> \n",
       "        <th class=\"blank\" ></th> \n",
       "        <th class=\"blank\" ></th> \n",
       "    </tr></thead> \n",
       "<tbody>    <tr> \n",
       "        <th id=\"T_bab69144_8093_11e9_a6c1_0242ac130002level0_row0\" class=\"row_heading level0 row0\" rowspan=2>female</th> \n",
       "        <th id=\"T_bab69144_8093_11e9_a6c1_0242ac130002level1_row0\" class=\"row_heading level1 row0\" >0</th> \n",
       "        <td id=\"T_bab69144_8093_11e9_a6c1_0242ac130002row0_col0\" class=\"data row0 col0\" >3</td> \n",
       "        <td id=\"T_bab69144_8093_11e9_a6c1_0242ac130002row0_col1\" class=\"data row0 col1\" >6</td> \n",
       "        <td id=\"T_bab69144_8093_11e9_a6c1_0242ac130002row0_col2\" class=\"data row0 col2\" >72</td> \n",
       "        <td id=\"T_bab69144_8093_11e9_a6c1_0242ac130002row0_col3\" class=\"data row0 col3\" >81</td> \n",
       "    </tr>    <tr> \n",
       "        <th id=\"T_bab69144_8093_11e9_a6c1_0242ac130002level1_row1\" class=\"row_heading level1 row1\" >1</th> \n",
       "        <td id=\"T_bab69144_8093_11e9_a6c1_0242ac130002row1_col0\" class=\"data row1 col0\" >91</td> \n",
       "        <td id=\"T_bab69144_8093_11e9_a6c1_0242ac130002row1_col1\" class=\"data row1 col1\" >70</td> \n",
       "        <td id=\"T_bab69144_8093_11e9_a6c1_0242ac130002row1_col2\" class=\"data row1 col2\" >72</td> \n",
       "        <td id=\"T_bab69144_8093_11e9_a6c1_0242ac130002row1_col3\" class=\"data row1 col3\" >233</td> \n",
       "    </tr>    <tr> \n",
       "        <th id=\"T_bab69144_8093_11e9_a6c1_0242ac130002level0_row2\" class=\"row_heading level0 row2\" rowspan=2>male</th> \n",
       "        <th id=\"T_bab69144_8093_11e9_a6c1_0242ac130002level1_row2\" class=\"row_heading level1 row2\" >0</th> \n",
       "        <td id=\"T_bab69144_8093_11e9_a6c1_0242ac130002row2_col0\" class=\"data row2 col0\" >77</td> \n",
       "        <td id=\"T_bab69144_8093_11e9_a6c1_0242ac130002row2_col1\" class=\"data row2 col1\" >91</td> \n",
       "        <td id=\"T_bab69144_8093_11e9_a6c1_0242ac130002row2_col2\" class=\"data row2 col2\" >300</td> \n",
       "        <td id=\"T_bab69144_8093_11e9_a6c1_0242ac130002row2_col3\" class=\"data row2 col3\" >468</td> \n",
       "    </tr>    <tr> \n",
       "        <th id=\"T_bab69144_8093_11e9_a6c1_0242ac130002level1_row3\" class=\"row_heading level1 row3\" >1</th> \n",
       "        <td id=\"T_bab69144_8093_11e9_a6c1_0242ac130002row3_col0\" class=\"data row3 col0\" >45</td> \n",
       "        <td id=\"T_bab69144_8093_11e9_a6c1_0242ac130002row3_col1\" class=\"data row3 col1\" >17</td> \n",
       "        <td id=\"T_bab69144_8093_11e9_a6c1_0242ac130002row3_col2\" class=\"data row3 col2\" >47</td> \n",
       "        <td id=\"T_bab69144_8093_11e9_a6c1_0242ac130002row3_col3\" class=\"data row3 col3\" >109</td> \n",
       "    </tr>    <tr> \n",
       "        <th id=\"T_bab69144_8093_11e9_a6c1_0242ac130002level0_row4\" class=\"row_heading level0 row4\" >All</th> \n",
       "        <th id=\"T_bab69144_8093_11e9_a6c1_0242ac130002level1_row4\" class=\"row_heading level1 row4\" ></th> \n",
       "        <td id=\"T_bab69144_8093_11e9_a6c1_0242ac130002row4_col0\" class=\"data row4 col0\" >216</td> \n",
       "        <td id=\"T_bab69144_8093_11e9_a6c1_0242ac130002row4_col1\" class=\"data row4 col1\" >184</td> \n",
       "        <td id=\"T_bab69144_8093_11e9_a6c1_0242ac130002row4_col2\" class=\"data row4 col2\" >491</td> \n",
       "        <td id=\"T_bab69144_8093_11e9_a6c1_0242ac130002row4_col3\" class=\"data row4 col3\" >891</td> \n",
       "    </tr></tbody> \n",
       "</table> "
      ],
      "text/plain": [
       "<pandas.io.formats.style.Styler at 0x7fcf4b860ef0>"
      ]
     },
     "execution_count": 12,
     "metadata": {},
     "output_type": "execute_result"
    }
   ],
   "source": [
    "pd.crosstab([data.Sex,data.Survived],data.Pclass,margins=True).style.background_gradient(cmap='summer_r')"
   ]
  },
  {
   "cell_type": "code",
   "execution_count": 13,
   "metadata": {},
   "outputs": [
    {
     "name": "stderr",
     "output_type": "stream",
     "text": [
      "/opt/conda/lib/python3.6/site-packages/scipy/stats/stats.py:1713: FutureWarning: Using a non-tuple sequence for multidimensional indexing is deprecated; use `arr[tuple(seq)]` instead of `arr[seq]`. In the future this will be interpreted as an array index, `arr[np.array(seq)]`, which will result either in an error or a different result.\n",
      "  return np.add.reduce(sorted[indexer] * weights, axis=axis) / sumval\n"
     ]
    },
    {
     "data": {
      "image/png": "[encoded data removed]",
      "text/plain": [
       "<Figure size 430.5x360 with 1 Axes>"
      ]
     },
     "metadata": {},
     "output_type": "display_data"
    }
   ],
   "source": [
    "sns.catplot('Pclass','Survived',hue='Sex',data=data,kind='point')\n",
    "plt.show()"
   ]
  },
  {
   "cell_type": "markdown",
   "metadata": {},
   "source": [
    "* For both males and females higher the class higher the survival rate\n",
    "* Looks like Pclass is also an important feature.\n",
    "* And it looks like irrespective of the class females were given high priority while rescue."
   ]
  },
  {
   "cell_type": "markdown",
   "metadata": {},
   "source": [
    "### Age\n",
    "**Meaning :** Age in years"
   ]
  },
  {
   "cell_type": "code",
   "execution_count": 14,
   "metadata": {},
   "outputs": [
    {
     "name": "stdout",
     "output_type": "stream",
     "text": [
      "Oldest Passenger was of: 80.0 Years\n",
      "Youngest Passenger was of: 0.42 Years\n",
      "Average Age on the ship: 29.69911764705882 Years\n"
     ]
    }
   ],
   "source": [
    "print('Oldest Passenger was of:',data['Age'].max(),'Years')\n",
    "print('Youngest Passenger was of:',data['Age'].min(),'Years')\n",
    "print('Average Age on the ship:',data['Age'].mean(),'Years')"
   ]
  },
  {
   "cell_type": "code",
   "execution_count": 15,
   "metadata": {},
   "outputs": [
    {
     "name": "stderr",
     "output_type": "stream",
     "text": [
      "/opt/conda/lib/python3.6/site-packages/scipy/stats/stats.py:1713: FutureWarning: Using a non-tuple sequence for multidimensional indexing is deprecated; use `arr[tuple(seq)]` instead of `arr[seq]`. In the future this will be interpreted as an array index, `arr[np.array(seq)]`, which will result either in an error or a different result.\n",
      "  return np.add.reduce(sorted[indexer] * weights, axis=axis) / sumval\n"
     ]
    },
    {
     "data": {
      "image/png": "[encoded data removed]",
      "text/plain": [
       "<Figure size 1296x576 with 2 Axes>"
      ]
     },
     "metadata": {},
     "output_type": "display_data"
    }
   ],
   "source": [
    "f,ax=plt.subplots(1,2,figsize=(18,8))\n",
    "sns.violinplot(\"Pclass\",\"Age\", hue=\"Survived\", data=data,split=True,ax=ax[0])\n",
    "ax[0].set_title('Pclass and Age vs Survived')\n",
    "ax[0].set_yticks(range(0,110,10))\n",
    "sns.violinplot(\"Sex\",\"Age\", hue=\"Survived\", data=data,split=True,ax=ax[1])\n",
    "ax[1].set_title('Sex and Age vs Survived')\n",
    "ax[1].set_yticks(range(0,110,10))\n",
    "plt.show()"
   ]
  },
  {
   "cell_type": "markdown",
   "metadata": {},
   "source": [
    "* survival rate for passenegers below Age 10(i.e children) looks to be good irrespective of the Pclass.\n",
    "* Rememer we had 177 null values in the Age feature. How are we gonna fill them?. One possibility is that we can "
   ]
  },
  {
   "cell_type": "markdown",
   "metadata": {},
   "source": [
    "#### Filling Age NaN"
   ]
  },
  {
   "cell_type": "code",
   "execution_count": 16,
   "metadata": {},
   "outputs": [
    {
     "data": {
      "text/html": [
       "<style  type=\"text/css\" >\n",
       "    #T_bb78fd9c_8093_11e9_a6c1_0242ac130002row0_col0 {\n",
       "            background-color:  #ffff66;\n",
       "        }    #T_bb78fd9c_8093_11e9_a6c1_0242ac130002row0_col1 {\n",
       "            background-color:  #ffff66;\n",
       "        }    #T_bb78fd9c_8093_11e9_a6c1_0242ac130002row0_col2 {\n",
       "            background-color:  #008066;\n",
       "        }    #T_bb78fd9c_8093_11e9_a6c1_0242ac130002row0_col3 {\n",
       "            background-color:  #ffff66;\n",
       "        }    #T_bb78fd9c_8093_11e9_a6c1_0242ac130002row0_col4 {\n",
       "            background-color:  #ffff66;\n",
       "        }    #T_bb78fd9c_8093_11e9_a6c1_0242ac130002row0_col5 {\n",
       "            background-color:  #ffff66;\n",
       "        }    #T_bb78fd9c_8093_11e9_a6c1_0242ac130002row0_col6 {\n",
       "            background-color:  #008066;\n",
       "        }    #T_bb78fd9c_8093_11e9_a6c1_0242ac130002row0_col7 {\n",
       "            background-color:  #ffff66;\n",
       "        }    #T_bb78fd9c_8093_11e9_a6c1_0242ac130002row0_col8 {\n",
       "            background-color:  #ffff66;\n",
       "        }    #T_bb78fd9c_8093_11e9_a6c1_0242ac130002row0_col9 {\n",
       "            background-color:  #008066;\n",
       "        }    #T_bb78fd9c_8093_11e9_a6c1_0242ac130002row0_col10 {\n",
       "            background-color:  #008066;\n",
       "        }    #T_bb78fd9c_8093_11e9_a6c1_0242ac130002row0_col11 {\n",
       "            background-color:  #008066;\n",
       "        }    #T_bb78fd9c_8093_11e9_a6c1_0242ac130002row0_col12 {\n",
       "            background-color:  #ffff66;\n",
       "        }    #T_bb78fd9c_8093_11e9_a6c1_0242ac130002row0_col13 {\n",
       "            background-color:  #008066;\n",
       "        }    #T_bb78fd9c_8093_11e9_a6c1_0242ac130002row0_col14 {\n",
       "            background-color:  #008066;\n",
       "        }    #T_bb78fd9c_8093_11e9_a6c1_0242ac130002row0_col15 {\n",
       "            background-color:  #ffff66;\n",
       "        }    #T_bb78fd9c_8093_11e9_a6c1_0242ac130002row0_col16 {\n",
       "            background-color:  #ffff66;\n",
       "        }    #T_bb78fd9c_8093_11e9_a6c1_0242ac130002row1_col0 {\n",
       "            background-color:  #008066;\n",
       "        }    #T_bb78fd9c_8093_11e9_a6c1_0242ac130002row1_col1 {\n",
       "            background-color:  #008066;\n",
       "        }    #T_bb78fd9c_8093_11e9_a6c1_0242ac130002row1_col2 {\n",
       "            background-color:  #ffff66;\n",
       "        }    #T_bb78fd9c_8093_11e9_a6c1_0242ac130002row1_col3 {\n",
       "            background-color:  #008066;\n",
       "        }    #T_bb78fd9c_8093_11e9_a6c1_0242ac130002row1_col4 {\n",
       "            background-color:  #008066;\n",
       "        }    #T_bb78fd9c_8093_11e9_a6c1_0242ac130002row1_col5 {\n",
       "            background-color:  #008066;\n",
       "        }    #T_bb78fd9c_8093_11e9_a6c1_0242ac130002row1_col6 {\n",
       "            background-color:  #ffff66;\n",
       "        }    #T_bb78fd9c_8093_11e9_a6c1_0242ac130002row1_col7 {\n",
       "            background-color:  #008066;\n",
       "        }    #T_bb78fd9c_8093_11e9_a6c1_0242ac130002row1_col8 {\n",
       "            background-color:  #008066;\n",
       "        }    #T_bb78fd9c_8093_11e9_a6c1_0242ac130002row1_col9 {\n",
       "            background-color:  #ffff66;\n",
       "        }    #T_bb78fd9c_8093_11e9_a6c1_0242ac130002row1_col10 {\n",
       "            background-color:  #ffff66;\n",
       "        }    #T_bb78fd9c_8093_11e9_a6c1_0242ac130002row1_col11 {\n",
       "            background-color:  #ffff66;\n",
       "        }    #T_bb78fd9c_8093_11e9_a6c1_0242ac130002row1_col12 {\n",
       "            background-color:  #008066;\n",
       "        }    #T_bb78fd9c_8093_11e9_a6c1_0242ac130002row1_col13 {\n",
       "            background-color:  #ffff66;\n",
       "        }    #T_bb78fd9c_8093_11e9_a6c1_0242ac130002row1_col14 {\n",
       "            background-color:  #ffff66;\n",
       "        }    #T_bb78fd9c_8093_11e9_a6c1_0242ac130002row1_col15 {\n",
       "            background-color:  #008066;\n",
       "        }    #T_bb78fd9c_8093_11e9_a6c1_0242ac130002row1_col16 {\n",
       "            background-color:  #008066;\n",
       "        }</style>  \n",
       "<table id=\"T_bb78fd9c_8093_11e9_a6c1_0242ac130002\" > \n",
       "<thead>    <tr> \n",
       "        <th class=\"index_name level0\" >Initial</th> \n",
       "        <th class=\"col_heading level0 col0\" >Capt</th> \n",
       "        <th class=\"col_heading level0 col1\" >Col</th> \n",
       "        <th class=\"col_heading level0 col2\" >Countess</th> \n",
       "        <th class=\"col_heading level0 col3\" >Don</th> \n",
       "        <th class=\"col_heading level0 col4\" >Dr</th> \n",
       "        <th class=\"col_heading level0 col5\" >Jonkheer</th> \n",
       "        <th class=\"col_heading level0 col6\" >Lady</th> \n",
       "        <th class=\"col_heading level0 col7\" >Major</th> \n",
       "        <th class=\"col_heading level0 col8\" >Master</th> \n",
       "        <th class=\"col_heading level0 col9\" >Miss</th> \n",
       "        <th class=\"col_heading level0 col10\" >Mlle</th> \n",
       "        <th class=\"col_heading level0 col11\" >Mme</th> \n",
       "        <th class=\"col_heading level0 col12\" >Mr</th> \n",
       "        <th class=\"col_heading level0 col13\" >Mrs</th> \n",
       "        <th class=\"col_heading level0 col14\" >Ms</th> \n",
       "        <th class=\"col_heading level0 col15\" >Rev</th> \n",
       "        <th class=\"col_heading level0 col16\" >Sir</th> \n",
       "    </tr>    <tr> \n",
       "        <th class=\"index_name level0\" >Sex</th> \n",
       "        <th class=\"blank\" ></th> \n",
       "        <th class=\"blank\" ></th> \n",
       "        <th class=\"blank\" ></th> \n",
       "        <th class=\"blank\" ></th> \n",
       "        <th class=\"blank\" ></th> \n",
       "        <th class=\"blank\" ></th> \n",
       "        <th class=\"blank\" ></th> \n",
       "        <th class=\"blank\" ></th> \n",
       "        <th class=\"blank\" ></th> \n",
       "        <th class=\"blank\" ></th> \n",
       "        <th class=\"blank\" ></th> \n",
       "        <th class=\"blank\" ></th> \n",
       "        <th class=\"blank\" ></th> \n",
       "        <th class=\"blank\" ></th> \n",
       "        <th class=\"blank\" ></th> \n",
       "        <th class=\"blank\" ></th> \n",
       "        <th class=\"blank\" ></th> \n",
       "    </tr></thead> \n",
       "<tbody>    <tr> \n",
       "        <th id=\"T_bb78fd9c_8093_11e9_a6c1_0242ac130002level0_row0\" class=\"row_heading level0 row0\" >female</th> \n",
       "        <td id=\"T_bb78fd9c_8093_11e9_a6c1_0242ac130002row0_col0\" class=\"data row0 col0\" >0</td> \n",
       "        <td id=\"T_bb78fd9c_8093_11e9_a6c1_0242ac130002row0_col1\" class=\"data row0 col1\" >0</td> \n",
       "        <td id=\"T_bb78fd9c_8093_11e9_a6c1_0242ac130002row0_col2\" class=\"data row0 col2\" >1</td> \n",
       "        <td id=\"T_bb78fd9c_8093_11e9_a6c1_0242ac130002row0_col3\" class=\"data row0 col3\" >0</td> \n",
       "        <td id=\"T_bb78fd9c_8093_11e9_a6c1_0242ac130002row0_col4\" class=\"data row0 col4\" >1</td> \n",
       "        <td id=\"T_bb78fd9c_8093_11e9_a6c1_0242ac130002row0_col5\" class=\"data row0 col5\" >0</td> \n",
       "        <td id=\"T_bb78fd9c_8093_11e9_a6c1_0242ac130002row0_col6\" class=\"data row0 col6\" >1</td> \n",
       "        <td id=\"T_bb78fd9c_8093_11e9_a6c1_0242ac130002row0_col7\" class=\"data row0 col7\" >0</td> \n",
       "        <td id=\"T_bb78fd9c_8093_11e9_a6c1_0242ac130002row0_col8\" class=\"data row0 col8\" >0</td> \n",
       "        <td id=\"T_bb78fd9c_8093_11e9_a6c1_0242ac130002row0_col9\" class=\"data row0 col9\" >182</td> \n",
       "        <td id=\"T_bb78fd9c_8093_11e9_a6c1_0242ac130002row0_col10\" class=\"data row0 col10\" >2</td> \n",
       "        <td id=\"T_bb78fd9c_8093_11e9_a6c1_0242ac130002row0_col11\" class=\"data row0 col11\" >1</td> \n",
       "        <td id=\"T_bb78fd9c_8093_11e9_a6c1_0242ac130002row0_col12\" class=\"data row0 col12\" >0</td> \n",
       "        <td id=\"T_bb78fd9c_8093_11e9_a6c1_0242ac130002row0_col13\" class=\"data row0 col13\" >125</td> \n",
       "        <td id=\"T_bb78fd9c_8093_11e9_a6c1_0242ac130002row0_col14\" class=\"data row0 col14\" >1</td> \n",
       "        <td id=\"T_bb78fd9c_8093_11e9_a6c1_0242ac130002row0_col15\" class=\"data row0 col15\" >0</td> \n",
       "        <td id=\"T_bb78fd9c_8093_11e9_a6c1_0242ac130002row0_col16\" class=\"data row0 col16\" >0</td> \n",
       "    </tr>    <tr> \n",
       "        <th id=\"T_bb78fd9c_8093_11e9_a6c1_0242ac130002level0_row1\" class=\"row_heading level0 row1\" >male</th> \n",
       "        <td id=\"T_bb78fd9c_8093_11e9_a6c1_0242ac130002row1_col0\" class=\"data row1 col0\" >1</td> \n",
       "        <td id=\"T_bb78fd9c_8093_11e9_a6c1_0242ac130002row1_col1\" class=\"data row1 col1\" >2</td> \n",
       "        <td id=\"T_bb78fd9c_8093_11e9_a6c1_0242ac130002row1_col2\" class=\"data row1 col2\" >0</td> \n",
       "        <td id=\"T_bb78fd9c_8093_11e9_a6c1_0242ac130002row1_col3\" class=\"data row1 col3\" >1</td> \n",
       "        <td id=\"T_bb78fd9c_8093_11e9_a6c1_0242ac130002row1_col4\" class=\"data row1 col4\" >6</td> \n",
       "        <td id=\"T_bb78fd9c_8093_11e9_a6c1_0242ac130002row1_col5\" class=\"data row1 col5\" >1</td> \n",
       "        <td id=\"T_bb78fd9c_8093_11e9_a6c1_0242ac130002row1_col6\" class=\"data row1 col6\" >0</td> \n",
       "        <td id=\"T_bb78fd9c_8093_11e9_a6c1_0242ac130002row1_col7\" class=\"data row1 col7\" >2</td> \n",
       "        <td id=\"T_bb78fd9c_8093_11e9_a6c1_0242ac130002row1_col8\" class=\"data row1 col8\" >40</td> \n",
       "        <td id=\"T_bb78fd9c_8093_11e9_a6c1_0242ac130002row1_col9\" class=\"data row1 col9\" >0</td> \n",
       "        <td id=\"T_bb78fd9c_8093_11e9_a6c1_0242ac130002row1_col10\" class=\"data row1 col10\" >0</td> \n",
       "        <td id=\"T_bb78fd9c_8093_11e9_a6c1_0242ac130002row1_col11\" class=\"data row1 col11\" >0</td> \n",
       "        <td id=\"T_bb78fd9c_8093_11e9_a6c1_0242ac130002row1_col12\" class=\"data row1 col12\" >517</td> \n",
       "        <td id=\"T_bb78fd9c_8093_11e9_a6c1_0242ac130002row1_col13\" class=\"data row1 col13\" >0</td> \n",
       "        <td id=\"T_bb78fd9c_8093_11e9_a6c1_0242ac130002row1_col14\" class=\"data row1 col14\" >0</td> \n",
       "        <td id=\"T_bb78fd9c_8093_11e9_a6c1_0242ac130002row1_col15\" class=\"data row1 col15\" >6</td> \n",
       "        <td id=\"T_bb78fd9c_8093_11e9_a6c1_0242ac130002row1_col16\" class=\"data row1 col16\" >1</td> \n",
       "    </tr></tbody> \n",
       "</table> "
      ],
      "text/plain": [
       "<pandas.io.formats.style.Styler at 0x7fcf3da021d0>"
      ]
     },
     "execution_count": 16,
     "metadata": {},
     "output_type": "execute_result"
    }
   ],
   "source": [
    "data['Initial']=0\n",
    "for i in data:\n",
    "    data['Initial']=data.Name.str.extract('([A-Za-z]+)\\.') #lets extract the Salutations\n",
    "\n",
    "    \n",
    "pd.crosstab(data.Initial,data.Sex).T.style.background_gradient(cmap='summer_r') #Checking the Initials with the Sex\n"
   ]
  },
  {
   "cell_type": "markdown",
   "metadata": {},
   "source": [
    "Okay so there are some misspelled Initials like Mlle or Mme that stand for Miss. Lets replace them."
   ]
  },
  {
   "cell_type": "code",
   "execution_count": 17,
   "metadata": {},
   "outputs": [],
   "source": [
    "data['Initial'].replace(['Mlle','Mme','Ms','Dr','Major','Lady','Countess','Jonkheer','Col','Rev','Capt','Sir','Don'],['Miss','Miss','Miss','Mr','Mr','Mrs','Mrs','Other','Other','Other','Mr','Mr','Mr'],inplace=True)"
   ]
  },
  {
   "cell_type": "code",
   "execution_count": 18,
   "metadata": {},
   "outputs": [
    {
     "data": {
      "text/plain": [
       "Initial\n",
       "Master     4.574167\n",
       "Miss      21.860000\n",
       "Mr        32.739609\n",
       "Mrs       35.981818\n",
       "Other     45.888889\n",
       "Name: Age, dtype: float64"
      ]
     },
     "execution_count": 18,
     "metadata": {},
     "output_type": "execute_result"
    }
   ],
   "source": [
    "data.groupby('Initial')['Age'].mean() #lets check the average age by Initials"
   ]
  },
  {
   "cell_type": "markdown",
   "metadata": {},
   "source": [
    "### Embarked\n",
    "**Meaning :** Port of Embarkation. C = Cherbourg, Q = Queenstown, S = Southampton"
   ]
  },
  {
   "cell_type": "code",
   "execution_count": 19,
   "metadata": {},
   "outputs": [],
   "source": []
  },
  {
   "cell_type": "markdown",
   "metadata": {},
   "source": [
    "#### Filling Embarked NaN"
   ]
  },
  {
   "cell_type": "code",
   "execution_count": 19,
   "metadata": {},
   "outputs": [],
   "source": []
  },
  {
   "cell_type": "markdown",
   "metadata": {},
   "source": [
    "### SibSip\n",
    "**Meaning :** Number of siblings / spouses aboard the Titanic"
   ]
  },
  {
   "cell_type": "code",
   "execution_count": 19,
   "metadata": {},
   "outputs": [],
   "source": []
  },
  {
   "cell_type": "markdown",
   "metadata": {},
   "source": [
    "### Parch\n",
    "**Meaning :** Number of parents / children aboard the Titanic"
   ]
  },
  {
   "cell_type": "code",
   "execution_count": 19,
   "metadata": {},
   "outputs": [],
   "source": []
  },
  {
   "cell_type": "markdown",
   "metadata": {},
   "source": [
    "### Fare\n",
    "**Meaning :** Passenger fare"
   ]
  },
  {
   "cell_type": "code",
   "execution_count": 19,
   "metadata": {},
   "outputs": [],
   "source": []
  },
  {
   "cell_type": "markdown",
   "metadata": {},
   "source": [
    "### Observations in a Nutshell for all features"
   ]
  },
  {
   "cell_type": "markdown",
   "metadata": {},
   "source": []
  },
  {
   "cell_type": "markdown",
   "metadata": {},
   "source": [
    "### Correlation Between The Features"
   ]
  },
  {
   "cell_type": "code",
   "execution_count": 19,
   "metadata": {},
   "outputs": [],
   "source": []
  },
  {
   "cell_type": "markdown",
   "metadata": {},
   "source": [
    "## PART 2 : Feature Engineering and Data Cleaning\n",
    "Now what is Feature Engineering?\n"
   ]
  },
  {
   "cell_type": "markdown",
   "metadata": {},
   "source": [
    "## PART 3 : Predictive Modeling\n"
   ]
  },
  {
   "cell_type": "markdown",
   "metadata": {},
   "source": [
    "If You Like the notebook and think that it helped you..PLEASE UPVOTE. It will keep me motivated"
   ]
  }
 ],
 "metadata": {
  "kernelspec": {
   "display_name": "Python 3",
   "language": "python",
   "name": "python3"
  },
  "language_info": {
   "codemirror_mode": {
    "name": "ipython",
    "version": 3
   },
   "file_extension": ".py",
   "mimetype": "text/x-python",
   "name": "python",
   "nbconvert_exporter": "python",
   "pygments_lexer": "ipython3",
   "version": "3.6.4"
  }
 },
 "nbformat": 4,
 "nbformat_minor": 1
}
