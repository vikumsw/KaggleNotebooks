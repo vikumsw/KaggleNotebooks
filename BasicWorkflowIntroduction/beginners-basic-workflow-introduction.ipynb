{
 "cells": [
  {
   "cell_type": "markdown",
   "metadata": {},
   "source": [
    "# Introducing Basic Workflow for Beginners\n",
    "## Hello Kaggler!\n",
    "## <span style=\"color:PURPLE\">Objective of this kernal is to provide an understanding on the</span> <span style=\"color:red\">basic workflow in a predictive modeling problem</span> .\n",
    "\n"
   ]
  },
  {
   "cell_type": "markdown",
   "metadata": {},
   "source": [
    "---\n",
    "\n",
    "### So ...\n",
    "### **IF** : <span style=\"color:BLACK\">you are new to data science and yet to  write your first kernel on a predictive modeling problem</span> -> <span style=\"color:BROWN\">I bet you will get something reading this. </span>\n",
    "### **ELSE** -> <span style=\"color:BROWN\">I bet that your feedback will definetly help me improving this kernal. So please.. :)</span>\n",
    "---"
   ]
  },
  {
   "cell_type": "markdown",
   "metadata": {},
   "source": [
    "# Content\n",
    "1. [Introducing Basic workflow in a predictive modeling problem](#1)\n",
    "1. [Introduction](#2)\n",
    "1. [PART 1 : Exploratory Data Analysis (EDA)](#3)\n",
    "    * [Lets look at overall survival stats](#3_1)\n",
    "    * [Analysis features](#3_2)\n",
    "        1. [Sex](#3_2_1)\n",
    "        1. [Pclass](#3_2_2)\n",
    "        1. [Age](#3_2_3)\n",
    "        1. [Embarked](#3_2_4)\n",
    "        1. [SibSip & Parch](#3_2_5)\n",
    "        1. [Fare](#3_2_6)\n",
    "    * [Observations Summary](#3_3)\n",
    "    * [Correlation Between The Features](#3_4)\n",
    "1. [PART 2 : Feature Engineering and Data Cleaning](#4)\n",
    "    * [Converting String Values into Numeric](#4_1)\n",
    "    * [Convert Age into a categorical feature by binning](#4_2)\n",
    "    * [Convert Fare into a categorical feature by binning](#4_3)\n",
    "    * [Dropping Unwanted Features](#4_4)\n",
    "1. [PART 3 : Predictive Modeling](#5)\n",
    "    * [Cross Validation](#5_1)\n",
    "    * [Confusion Matrices](#5_2)\n",
    "    * [Hyper-Parameters Tuning](#5_3)\n",
    "    * [Ensembling](#5_4)\n",
    "    * [Prediction](#5_5)\n",
    "1. [Feature Importance](#6)\n",
    "\n"
   ]
  },
  {
   "cell_type": "markdown",
   "metadata": {},
   "source": [
    "## **Basic workflow in a predictive modeling problem**[^](#1)<a id=\"1\" ></a><br>\n",
    "\n",
    "**<center><span style=\"color:blue\">Exploratory Data Analysis</span> -> <span style=\"color:green\">Feature Engineering and Data Cleaning</span> -> <span style=\"color:red\">Predictive Modeling</span></center>.**\n",
    "\n",
    "1. First we need to see what the data can tell us: We call this **<span style=\"color:blue\">Exploratory Data Analysis(EDA)</span>**. Here we look at data which is hidden in rows and column format and try to visualize, summarize and interprete it looking for information.\n",
    "1. Next we can **leverage domain knowledge** to boost machine learning model performance. We call this step, **<span style=\"color:green\">Feature Engineering and Data Cleaning</span>**. In this step we might add few features, Remove redundant features, Converting features into suitable form for modeling.\n",
    "1. Then we can move on to the **<span style=\"color:red\">Predictive Modeling</span>**. Here we try basic ML algorthms, cross validate, ensemble and Important feature Extraction.\n",
    "\n",
    "---"
   ]
  },
  {
   "cell_type": "markdown",
   "metadata": {},
   "source": [
    "# Now with the big picture in mind, let's start![^](#2)<a id=\"2\" ></a><br>\n",
    "\n",
    "\n",
    "## First and foremost let's feel it.\n",
    "\n",
    "## Titanic : The Unsinkable Ship and the Iceberg\n",
    "\n",
    "“Fifteen-hundred people went into the sea, when Titanic sank from under us. There were twenty boats floating nearby… and only one came back. One. Six were saved from the water, myself included. Six… out of fifteen-hundred. Afterward, the seven-hundred people in the boats had nothing to do but wait… wait to die… wait to live… wait for an absolution… that would never come.”\n",
    "—Rose\n",
    "\n",
    "\n",
    "RMS Titanic sank in the early morning of 15 April 1912 in the North Atlantic Ocean, four days into the ship's maiden voyage from Southampton to New York City. The largest ocean liner in service at the time, Titanic had an estimated 2,224 people on board when she struck an iceberg at around 23:40 (ship's time) on Sunday, 14 April 1912. Her sinking two hours and forty minutes later at 02:20 (ship's time; 05:18 GMT) on Monday, 15 April, resulted in the deaths of more than 1,500 people, making it one of history's deadliest marine disasters during peacetime\n",
    "-*Wikipedia*[](http://)"
   ]
  },
  {
   "cell_type": "markdown",
   "metadata": {},
   "source": [
    "---\n",
    "\n",
    "# PART 1 : Exploratory Data Analysis (EDA)[^](#3)<a id=\"3\" ></a><br>\n",
    "\n",
    "With the objective in mind that this kernal aims to explain the workflow of a predictive modelling problem for begginers, I will try to use simple easy to understand visualizations in the EDA section. Kernals with more advanced EDA sections will be mentioned at the end for you to learn more."
   ]
  },
  {
   "cell_type": "code",
   "execution_count": 1,
   "metadata": {
    "_cell_guid": "b1076dfc-b9ad-4769-8c92-a6c4dae69d19",
    "_uuid": "8f2839f25d086af736a60e9eeb907d3b93b6e0e5"
   },
   "outputs": [],
   "source": [
    "# Python 3 environment comes with many helpful analytics libraries installed\n",
    "# For example, here's several helpful packages to load in \n",
    "import numpy as np # linear algebra\n",
    "import pandas as pd # data processing, CSV file I/O (e.g. pd.read_csv)\n",
    "import matplotlib.pyplot as plt\n",
    "import seaborn as sns\n",
    "import os"
   ]
  },
  {
   "cell_type": "code",
   "execution_count": 2,
   "metadata": {},
   "outputs": [
    {
     "data": {
      "text/html": [
       "<div>\n",
       "<style scoped>\n",
       "    .dataframe tbody tr th:only-of-type {\n",
       "        vertical-align: middle;\n",
       "    }\n",
       "\n",
       "    .dataframe tbody tr th {\n",
       "        vertical-align: top;\n",
       "    }\n",
       "\n",
       "    .dataframe thead th {\n",
       "        text-align: right;\n",
       "    }\n",
       "</style>\n",
       "<table border=\"1\" class=\"dataframe\">\n",
       "  <thead>\n",
       "    <tr style=\"text-align: right;\">\n",
       "      <th></th>\n",
       "      <th>PassengerId</th>\n",
       "      <th>Survived</th>\n",
       "      <th>Pclass</th>\n",
       "      <th>Name</th>\n",
       "      <th>Sex</th>\n",
       "      <th>Age</th>\n",
       "      <th>SibSp</th>\n",
       "      <th>Parch</th>\n",
       "      <th>Ticket</th>\n",
       "      <th>Fare</th>\n",
       "      <th>Cabin</th>\n",
       "      <th>Embarked</th>\n",
       "    </tr>\n",
       "  </thead>\n",
       "  <tbody>\n",
       "    <tr>\n",
       "      <th>0</th>\n",
       "      <td>1</td>\n",
       "      <td>0</td>\n",
       "      <td>3</td>\n",
       "      <td>Braund, Mr. Owen Harris</td>\n",
       "      <td>male</td>\n",
       "      <td>22.0</td>\n",
       "      <td>1</td>\n",
       "      <td>0</td>\n",
       "      <td>A/5 21171</td>\n",
       "      <td>7.2500</td>\n",
       "      <td>NaN</td>\n",
       "      <td>S</td>\n",
       "    </tr>\n",
       "    <tr>\n",
       "      <th>1</th>\n",
       "      <td>2</td>\n",
       "      <td>1</td>\n",
       "      <td>1</td>\n",
       "      <td>Cumings, Mrs. John Bradley (Florence Briggs Th...</td>\n",
       "      <td>female</td>\n",
       "      <td>38.0</td>\n",
       "      <td>1</td>\n",
       "      <td>0</td>\n",
       "      <td>PC 17599</td>\n",
       "      <td>71.2833</td>\n",
       "      <td>C85</td>\n",
       "      <td>C</td>\n",
       "    </tr>\n",
       "    <tr>\n",
       "      <th>2</th>\n",
       "      <td>3</td>\n",
       "      <td>1</td>\n",
       "      <td>3</td>\n",
       "      <td>Heikkinen, Miss. Laina</td>\n",
       "      <td>female</td>\n",
       "      <td>26.0</td>\n",
       "      <td>0</td>\n",
       "      <td>0</td>\n",
       "      <td>STON/O2. 3101282</td>\n",
       "      <td>7.9250</td>\n",
       "      <td>NaN</td>\n",
       "      <td>S</td>\n",
       "    </tr>\n",
       "    <tr>\n",
       "      <th>3</th>\n",
       "      <td>4</td>\n",
       "      <td>1</td>\n",
       "      <td>1</td>\n",
       "      <td>Futrelle, Mrs. Jacques Heath (Lily May Peel)</td>\n",
       "      <td>female</td>\n",
       "      <td>35.0</td>\n",
       "      <td>1</td>\n",
       "      <td>0</td>\n",
       "      <td>113803</td>\n",
       "      <td>53.1000</td>\n",
       "      <td>C123</td>\n",
       "      <td>S</td>\n",
       "    </tr>\n",
       "    <tr>\n",
       "      <th>4</th>\n",
       "      <td>5</td>\n",
       "      <td>0</td>\n",
       "      <td>3</td>\n",
       "      <td>Allen, Mr. William Henry</td>\n",
       "      <td>male</td>\n",
       "      <td>35.0</td>\n",
       "      <td>0</td>\n",
       "      <td>0</td>\n",
       "      <td>373450</td>\n",
       "      <td>8.0500</td>\n",
       "      <td>NaN</td>\n",
       "      <td>S</td>\n",
       "    </tr>\n",
       "  </tbody>\n",
       "</table>\n",
       "</div>"
      ],
      "text/plain": [
       "   PassengerId  Survived  Pclass    ...        Fare Cabin  Embarked\n",
       "0            1         0       3    ...      7.2500   NaN         S\n",
       "1            2         1       1    ...     71.2833   C85         C\n",
       "2            3         1       3    ...      7.9250   NaN         S\n",
       "3            4         1       1    ...     53.1000  C123         S\n",
       "4            5         0       3    ...      8.0500   NaN         S\n",
       "\n",
       "[5 rows x 12 columns]"
      ]
     },
     "metadata": {},
     "output_type": "display_data"
    },
    {
     "name": "stdout",
     "output_type": "stream",
     "text": [
      "Shape of Data :  (891, 12)\n"
     ]
    }
   ],
   "source": [
    "# Read data to a pandas data frame\n",
    "data=pd.read_csv('../input/train.csv')\n",
    "# lets have a look on first few rows\n",
    "display(data.head())\n",
    "# Checking shape of our data set\n",
    "print('Shape of Data : ',data.shape)"
   ]
  },
  {
   "cell_type": "markdown",
   "metadata": {},
   "source": [
    "* We have 891 data points (rows); each data point has 12 columns."
   ]
  },
  {
   "cell_type": "code",
   "execution_count": 3,
   "metadata": {},
   "outputs": [
    {
     "data": {
      "text/plain": [
       "PassengerId      0\n",
       "Survived         0\n",
       "Pclass           0\n",
       "Name             0\n",
       "Sex              0\n",
       "Age            177\n",
       "SibSp            0\n",
       "Parch            0\n",
       "Ticket           0\n",
       "Fare             0\n",
       "Cabin          687\n",
       "Embarked         2\n",
       "dtype: int64"
      ]
     },
     "execution_count": 3,
     "metadata": {},
     "output_type": "execute_result"
    }
   ],
   "source": [
    "#checking for null value counts in each column\n",
    "data.isnull().sum()"
   ]
  },
  {
   "cell_type": "markdown",
   "metadata": {},
   "source": [
    "* The Age, Cabin and Embarked have null values."
   ]
  },
  {
   "cell_type": "markdown",
   "metadata": {},
   "source": [
    "## Lets look at overall survival stats[^](#3_1)<a id=\"3_1\" ></a><br>"
   ]
  },
  {
   "cell_type": "code",
   "execution_count": 4,
   "metadata": {},
   "outputs": [
    {
     "data": {
      "image/png": "[encoded data removed]",
      "text/plain": [
       "<Figure size 936x360 with 2 Axes>"
      ]
     },
     "metadata": {
      "needs_background": "light"
     },
     "output_type": "display_data"
    }
   ],
   "source": [
    "f,ax=plt.subplots(1,2,figsize=(13,5))\n",
    "data['Survived'].value_counts().plot.pie(explode=[0,0.05],autopct='%1.1f%%',ax=ax[0],shadow=True)\n",
    "ax[0].set_title('Survived')\n",
    "ax[0].set_ylabel('')\n",
    "sns.countplot('Survived',data=data,ax=ax[1])\n",
    "ax[1].set_title('Survived')\n",
    "plt.show()"
   ]
  },
  {
   "cell_type": "markdown",
   "metadata": {},
   "source": [
    "* Sad Story! Only 38% have survived. That is roughly 340 out of 891. "
   ]
  },
  {
   "attachments": {},
   "cell_type": "markdown",
   "metadata": {},
   "source": [
    "---\n",
    "## Let's analyse features[^](#3_2)<a id=\"3_2\" ></a><br>"
   ]
  },
  {
   "cell_type": "markdown",
   "metadata": {},
   "source": [
    "### Feature: Sex[^](#3_2_1)<a id=\"3_2_1\" ></a><br>"
   ]
  },
  {
   "cell_type": "code",
   "execution_count": 5,
   "metadata": {},
   "outputs": [
    {
     "data": {
      "image/png": "[encoded data removed]",
      "text/plain": [
       "<Figure size 1296x360 with 3 Axes>"
      ]
     },
     "metadata": {
      "needs_background": "light"
     },
     "output_type": "display_data"
    }
   ],
   "source": [
    "f,ax=plt.subplots(1,3,figsize=(18,5))\n",
    "data[['Sex','Survived']].groupby(['Sex']).mean().plot.bar(ax=ax[0])\n",
    "ax[0].set_title('Fraction of Survival with respect to Sex')\n",
    "sns.countplot('Sex',hue='Survived',data=data,ax=ax[1])\n",
    "ax[1].set_title('Survived vs Dead counts with respect to Sex')\n",
    "sns.barplot(x=\"Sex\", y=\"Survived\", data=data,ax=ax[2])\n",
    "ax[2].set_title('Survival by Gender')\n",
    "plt.show()"
   ]
  },
  {
   "cell_type": "markdown",
   "metadata": {},
   "source": [
    "* While survival rate for female is around 75%, same for men is about 20%.\n",
    "* It looks like they have given priority to female passengers in the rescue.\n",
    "* **Looks like Sex is a good predictor on the survival.**"
   ]
  },
  {
   "cell_type": "markdown",
   "metadata": {},
   "source": [
    "---\n",
    "### Feature: Pclass[^](#3_2_2)<a id=\"3_2_2\" ></a><br>\n",
    "**Meaning :** Ticket class : 1 = 1st, 2 = 2nd, 3 = 3rd"
   ]
  },
  {
   "cell_type": "code",
   "execution_count": 6,
   "metadata": {},
   "outputs": [
    {
     "data": {
      "image/png": "[encoded data removed]",
      "text/plain": [
       "<Figure size 1296x360 with 3 Axes>"
      ]
     },
     "metadata": {
      "needs_background": "light"
     },
     "output_type": "display_data"
    }
   ],
   "source": [
    "f,ax=plt.subplots(1,3,figsize=(18,5))\n",
    "data['Pclass'].value_counts().plot.bar(color=['#BC8F8F','#F4A460','#DAA520'],ax=ax[0])\n",
    "ax[0].set_title('Number Of Passengers with respect to Pclass')\n",
    "ax[0].set_ylabel('Count')\n",
    "sns.countplot('Pclass',hue='Survived',data=data,ax=ax[1])\n",
    "ax[1].set_title('Survived vs Dead counts with respect to Pclass')\n",
    "sns.barplot(x=\"Pclass\", y=\"Survived\", data=data,ax=ax[2])\n",
    "ax[2].set_title('Survival by Pclass')\n",
    "plt.show()"
   ]
  },
  {
   "cell_type": "markdown",
   "metadata": {},
   "source": [
    "* For Pclass 1 %survived is around 63%, for Pclass2 is around 48% and for Pclass2 is around 25%.\n",
    "* **So its clear that higher classes had higher priority while rescue.**\n",
    "* **Looks like Pclass is also an important feature.**"
   ]
  },
  {
   "cell_type": "markdown",
   "metadata": {},
   "source": [
    "---\n",
    "### Feature: Age[^](#3_2_3)<a id=\"3_2_3\" ></a><br>\n",
    "**Meaning :** Age in years"
   ]
  },
  {
   "cell_type": "code",
   "execution_count": 7,
   "metadata": {},
   "outputs": [
    {
     "data": {
      "image/png": "[encoded data removed]",
      "text/plain": [
       "<Figure size 1800x432 with 1 Axes>"
      ]
     },
     "metadata": {
      "needs_background": "light"
     },
     "output_type": "display_data"
    }
   ],
   "source": [
    "# Plot\n",
    "plt.figure(figsize=(25,6))\n",
    "sns.barplot(data['Age'],data['Survived'], ci=None)\n",
    "plt.xticks(rotation=90);"
   ]
  },
  {
   "cell_type": "markdown",
   "metadata": {},
   "source": [
    "* Survival rate for passenegers below Age 14(i.e children) looks to be good than others.\n",
    "* So Age seems an important feature too.\n",
    "* Rememer we had 177 null values in the Age feature. How are we gonna fill them?."
   ]
  },
  {
   "cell_type": "markdown",
   "metadata": {},
   "source": [
    "#### Filling Age NaN\n",
    "\n",
    "Well there are many ways to do this. One can use the mean value or median .. etc.. But can we do better?. Seems yes. [EDA To Prediction(DieTanic)](https://www.kaggle.com/ash316/eda-to-prediction-dietanic#EDA-To-Prediction-(DieTanic)) has used a wonderful method which I would use here too. There is a name feature. First lets extract the initials.\n"
   ]
  },
  {
   "cell_type": "code",
   "execution_count": 8,
   "metadata": {},
   "outputs": [
    {
     "data": {
      "text/html": [
       "<style  type=\"text/css\" >\n",
       "    #T_ed8e1526_ac83_11e9_8bf1_63191df349afrow0_col0 {\n",
       "            background-color:  #ffff66;\n",
       "        }    #T_ed8e1526_ac83_11e9_8bf1_63191df349afrow0_col1 {\n",
       "            background-color:  #ffff66;\n",
       "        }    #T_ed8e1526_ac83_11e9_8bf1_63191df349afrow0_col2 {\n",
       "            background-color:  #008066;\n",
       "        }    #T_ed8e1526_ac83_11e9_8bf1_63191df349afrow0_col3 {\n",
       "            background-color:  #ffff66;\n",
       "        }    #T_ed8e1526_ac83_11e9_8bf1_63191df349afrow0_col4 {\n",
       "            background-color:  #ffff66;\n",
       "        }    #T_ed8e1526_ac83_11e9_8bf1_63191df349afrow0_col5 {\n",
       "            background-color:  #ffff66;\n",
       "        }    #T_ed8e1526_ac83_11e9_8bf1_63191df349afrow0_col6 {\n",
       "            background-color:  #008066;\n",
       "        }    #T_ed8e1526_ac83_11e9_8bf1_63191df349afrow0_col7 {\n",
       "            background-color:  #ffff66;\n",
       "        }    #T_ed8e1526_ac83_11e9_8bf1_63191df349afrow0_col8 {\n",
       "            background-color:  #ffff66;\n",
       "        }    #T_ed8e1526_ac83_11e9_8bf1_63191df349afrow0_col9 {\n",
       "            background-color:  #008066;\n",
       "        }    #T_ed8e1526_ac83_11e9_8bf1_63191df349afrow0_col10 {\n",
       "            background-color:  #008066;\n",
       "        }    #T_ed8e1526_ac83_11e9_8bf1_63191df349afrow0_col11 {\n",
       "            background-color:  #008066;\n",
       "        }    #T_ed8e1526_ac83_11e9_8bf1_63191df349afrow0_col12 {\n",
       "            background-color:  #ffff66;\n",
       "        }    #T_ed8e1526_ac83_11e9_8bf1_63191df349afrow0_col13 {\n",
       "            background-color:  #008066;\n",
       "        }    #T_ed8e1526_ac83_11e9_8bf1_63191df349afrow0_col14 {\n",
       "            background-color:  #008066;\n",
       "        }    #T_ed8e1526_ac83_11e9_8bf1_63191df349afrow0_col15 {\n",
       "            background-color:  #ffff66;\n",
       "        }    #T_ed8e1526_ac83_11e9_8bf1_63191df349afrow0_col16 {\n",
       "            background-color:  #ffff66;\n",
       "        }    #T_ed8e1526_ac83_11e9_8bf1_63191df349afrow1_col0 {\n",
       "            background-color:  #008066;\n",
       "        }    #T_ed8e1526_ac83_11e9_8bf1_63191df349afrow1_col1 {\n",
       "            background-color:  #008066;\n",
       "        }    #T_ed8e1526_ac83_11e9_8bf1_63191df349afrow1_col2 {\n",
       "            background-color:  #ffff66;\n",
       "        }    #T_ed8e1526_ac83_11e9_8bf1_63191df349afrow1_col3 {\n",
       "            background-color:  #008066;\n",
       "        }    #T_ed8e1526_ac83_11e9_8bf1_63191df349afrow1_col4 {\n",
       "            background-color:  #008066;\n",
       "        }    #T_ed8e1526_ac83_11e9_8bf1_63191df349afrow1_col5 {\n",
       "            background-color:  #008066;\n",
       "        }    #T_ed8e1526_ac83_11e9_8bf1_63191df349afrow1_col6 {\n",
       "            background-color:  #ffff66;\n",
       "        }    #T_ed8e1526_ac83_11e9_8bf1_63191df349afrow1_col7 {\n",
       "            background-color:  #008066;\n",
       "        }    #T_ed8e1526_ac83_11e9_8bf1_63191df349afrow1_col8 {\n",
       "            background-color:  #008066;\n",
       "        }    #T_ed8e1526_ac83_11e9_8bf1_63191df349afrow1_col9 {\n",
       "            background-color:  #ffff66;\n",
       "        }    #T_ed8e1526_ac83_11e9_8bf1_63191df349afrow1_col10 {\n",
       "            background-color:  #ffff66;\n",
       "        }    #T_ed8e1526_ac83_11e9_8bf1_63191df349afrow1_col11 {\n",
       "            background-color:  #ffff66;\n",
       "        }    #T_ed8e1526_ac83_11e9_8bf1_63191df349afrow1_col12 {\n",
       "            background-color:  #008066;\n",
       "        }    #T_ed8e1526_ac83_11e9_8bf1_63191df349afrow1_col13 {\n",
       "            background-color:  #ffff66;\n",
       "        }    #T_ed8e1526_ac83_11e9_8bf1_63191df349afrow1_col14 {\n",
       "            background-color:  #ffff66;\n",
       "        }    #T_ed8e1526_ac83_11e9_8bf1_63191df349afrow1_col15 {\n",
       "            background-color:  #008066;\n",
       "        }    #T_ed8e1526_ac83_11e9_8bf1_63191df349afrow1_col16 {\n",
       "            background-color:  #008066;\n",
       "        }</style>  \n",
       "<table id=\"T_ed8e1526_ac83_11e9_8bf1_63191df349af\" > \n",
       "<thead>    <tr> \n",
       "        <th class=\"index_name level0\" >Initial</th> \n",
       "        <th class=\"col_heading level0 col0\" >Capt</th> \n",
       "        <th class=\"col_heading level0 col1\" >Col</th> \n",
       "        <th class=\"col_heading level0 col2\" >Countess</th> \n",
       "        <th class=\"col_heading level0 col3\" >Don</th> \n",
       "        <th class=\"col_heading level0 col4\" >Dr</th> \n",
       "        <th class=\"col_heading level0 col5\" >Jonkheer</th> \n",
       "        <th class=\"col_heading level0 col6\" >Lady</th> \n",
       "        <th class=\"col_heading level0 col7\" >Major</th> \n",
       "        <th class=\"col_heading level0 col8\" >Master</th> \n",
       "        <th class=\"col_heading level0 col9\" >Miss</th> \n",
       "        <th class=\"col_heading level0 col10\" >Mlle</th> \n",
       "        <th class=\"col_heading level0 col11\" >Mme</th> \n",
       "        <th class=\"col_heading level0 col12\" >Mr</th> \n",
       "        <th class=\"col_heading level0 col13\" >Mrs</th> \n",
       "        <th class=\"col_heading level0 col14\" >Ms</th> \n",
       "        <th class=\"col_heading level0 col15\" >Rev</th> \n",
       "        <th class=\"col_heading level0 col16\" >Sir</th> \n",
       "    </tr>    <tr> \n",
       "        <th class=\"index_name level0\" >Sex</th> \n",
       "        <th class=\"blank\" ></th> \n",
       "        <th class=\"blank\" ></th> \n",
       "        <th class=\"blank\" ></th> \n",
       "        <th class=\"blank\" ></th> \n",
       "        <th class=\"blank\" ></th> \n",
       "        <th class=\"blank\" ></th> \n",
       "        <th class=\"blank\" ></th> \n",
       "        <th class=\"blank\" ></th> \n",
       "        <th class=\"blank\" ></th> \n",
       "        <th class=\"blank\" ></th> \n",
       "        <th class=\"blank\" ></th> \n",
       "        <th class=\"blank\" ></th> \n",
       "        <th class=\"blank\" ></th> \n",
       "        <th class=\"blank\" ></th> \n",
       "        <th class=\"blank\" ></th> \n",
       "        <th class=\"blank\" ></th> \n",
       "        <th class=\"blank\" ></th> \n",
       "    </tr></thead> \n",
       "<tbody>    <tr> \n",
       "        <th id=\"T_ed8e1526_ac83_11e9_8bf1_63191df349aflevel0_row0\" class=\"row_heading level0 row0\" >female</th> \n",
       "        <td id=\"T_ed8e1526_ac83_11e9_8bf1_63191df349afrow0_col0\" class=\"data row0 col0\" >0</td> \n",
       "        <td id=\"T_ed8e1526_ac83_11e9_8bf1_63191df349afrow0_col1\" class=\"data row0 col1\" >0</td> \n",
       "        <td id=\"T_ed8e1526_ac83_11e9_8bf1_63191df349afrow0_col2\" class=\"data row0 col2\" >1</td> \n",
       "        <td id=\"T_ed8e1526_ac83_11e9_8bf1_63191df349afrow0_col3\" class=\"data row0 col3\" >0</td> \n",
       "        <td id=\"T_ed8e1526_ac83_11e9_8bf1_63191df349afrow0_col4\" class=\"data row0 col4\" >1</td> \n",
       "        <td id=\"T_ed8e1526_ac83_11e9_8bf1_63191df349afrow0_col5\" class=\"data row0 col5\" >0</td> \n",
       "        <td id=\"T_ed8e1526_ac83_11e9_8bf1_63191df349afrow0_col6\" class=\"data row0 col6\" >1</td> \n",
       "        <td id=\"T_ed8e1526_ac83_11e9_8bf1_63191df349afrow0_col7\" class=\"data row0 col7\" >0</td> \n",
       "        <td id=\"T_ed8e1526_ac83_11e9_8bf1_63191df349afrow0_col8\" class=\"data row0 col8\" >0</td> \n",
       "        <td id=\"T_ed8e1526_ac83_11e9_8bf1_63191df349afrow0_col9\" class=\"data row0 col9\" >182</td> \n",
       "        <td id=\"T_ed8e1526_ac83_11e9_8bf1_63191df349afrow0_col10\" class=\"data row0 col10\" >2</td> \n",
       "        <td id=\"T_ed8e1526_ac83_11e9_8bf1_63191df349afrow0_col11\" class=\"data row0 col11\" >1</td> \n",
       "        <td id=\"T_ed8e1526_ac83_11e9_8bf1_63191df349afrow0_col12\" class=\"data row0 col12\" >0</td> \n",
       "        <td id=\"T_ed8e1526_ac83_11e9_8bf1_63191df349afrow0_col13\" class=\"data row0 col13\" >125</td> \n",
       "        <td id=\"T_ed8e1526_ac83_11e9_8bf1_63191df349afrow0_col14\" class=\"data row0 col14\" >1</td> \n",
       "        <td id=\"T_ed8e1526_ac83_11e9_8bf1_63191df349afrow0_col15\" class=\"data row0 col15\" >0</td> \n",
       "        <td id=\"T_ed8e1526_ac83_11e9_8bf1_63191df349afrow0_col16\" class=\"data row0 col16\" >0</td> \n",
       "    </tr>    <tr> \n",
       "        <th id=\"T_ed8e1526_ac83_11e9_8bf1_63191df349aflevel0_row1\" class=\"row_heading level0 row1\" >male</th> \n",
       "        <td id=\"T_ed8e1526_ac83_11e9_8bf1_63191df349afrow1_col0\" class=\"data row1 col0\" >1</td> \n",
       "        <td id=\"T_ed8e1526_ac83_11e9_8bf1_63191df349afrow1_col1\" class=\"data row1 col1\" >2</td> \n",
       "        <td id=\"T_ed8e1526_ac83_11e9_8bf1_63191df349afrow1_col2\" class=\"data row1 col2\" >0</td> \n",
       "        <td id=\"T_ed8e1526_ac83_11e9_8bf1_63191df349afrow1_col3\" class=\"data row1 col3\" >1</td> \n",
       "        <td id=\"T_ed8e1526_ac83_11e9_8bf1_63191df349afrow1_col4\" class=\"data row1 col4\" >6</td> \n",
       "        <td id=\"T_ed8e1526_ac83_11e9_8bf1_63191df349afrow1_col5\" class=\"data row1 col5\" >1</td> \n",
       "        <td id=\"T_ed8e1526_ac83_11e9_8bf1_63191df349afrow1_col6\" class=\"data row1 col6\" >0</td> \n",
       "        <td id=\"T_ed8e1526_ac83_11e9_8bf1_63191df349afrow1_col7\" class=\"data row1 col7\" >2</td> \n",
       "        <td id=\"T_ed8e1526_ac83_11e9_8bf1_63191df349afrow1_col8\" class=\"data row1 col8\" >40</td> \n",
       "        <td id=\"T_ed8e1526_ac83_11e9_8bf1_63191df349afrow1_col9\" class=\"data row1 col9\" >0</td> \n",
       "        <td id=\"T_ed8e1526_ac83_11e9_8bf1_63191df349afrow1_col10\" class=\"data row1 col10\" >0</td> \n",
       "        <td id=\"T_ed8e1526_ac83_11e9_8bf1_63191df349afrow1_col11\" class=\"data row1 col11\" >0</td> \n",
       "        <td id=\"T_ed8e1526_ac83_11e9_8bf1_63191df349afrow1_col12\" class=\"data row1 col12\" >517</td> \n",
       "        <td id=\"T_ed8e1526_ac83_11e9_8bf1_63191df349afrow1_col13\" class=\"data row1 col13\" >0</td> \n",
       "        <td id=\"T_ed8e1526_ac83_11e9_8bf1_63191df349afrow1_col14\" class=\"data row1 col14\" >0</td> \n",
       "        <td id=\"T_ed8e1526_ac83_11e9_8bf1_63191df349afrow1_col15\" class=\"data row1 col15\" >6</td> \n",
       "        <td id=\"T_ed8e1526_ac83_11e9_8bf1_63191df349afrow1_col16\" class=\"data row1 col16\" >1</td> \n",
       "    </tr></tbody> \n",
       "</table> "
      ],
      "text/plain": [
       "<pandas.io.formats.style.Styler at 0x7f7f60072240>"
      ]
     },
     "execution_count": 8,
     "metadata": {},
     "output_type": "execute_result"
    }
   ],
   "source": [
    "data['Initial']=0\n",
    "for i in data:\n",
    "    data['Initial']=data.Name.str.extract('([A-Za-z]+)\\.') #lets extract the Salutations\n",
    "\n",
    "pd.crosstab(data.Initial,data.Sex).T.style.background_gradient(cmap='summer_r') #Checking the Initials with the Sex"
   ]
  },
  {
   "cell_type": "markdown",
   "metadata": {},
   "source": [
    "Okay so there are some misspelled Initials like Mlle or Mme that stand for Miss. Lets replace them."
   ]
  },
  {
   "cell_type": "code",
   "execution_count": 9,
   "metadata": {},
   "outputs": [],
   "source": [
    "data['Initial'].replace(['Mlle','Mme','Ms','Dr','Major','Lady','Countess','Jonkheer','Col','Rev','Capt','Sir','Don'],['Miss','Miss','Miss','Mr','Mr','Mrs','Mrs','Other','Other','Other','Mr','Mr','Mr'],inplace=True)"
   ]
  },
  {
   "cell_type": "code",
   "execution_count": 10,
   "metadata": {},
   "outputs": [
    {
     "data": {
      "text/plain": [
       "Initial\n",
       "Master     4.574167\n",
       "Miss      21.860000\n",
       "Mr        32.739609\n",
       "Mrs       35.981818\n",
       "Other     45.888889\n",
       "Name: Age, dtype: float64"
      ]
     },
     "execution_count": 10,
     "metadata": {},
     "output_type": "execute_result"
    }
   ],
   "source": [
    "data.groupby('Initial')['Age'].mean() #lets check the average age by Initials"
   ]
  },
  {
   "cell_type": "code",
   "execution_count": 11,
   "metadata": {},
   "outputs": [],
   "source": [
    "## Assigning the NaN Values with the Ceil values of the mean ages\n",
    "data.loc[(data.Age.isnull())&(data.Initial=='Mr'),'Age']=33\n",
    "data.loc[(data.Age.isnull())&(data.Initial=='Mrs'),'Age']=36\n",
    "data.loc[(data.Age.isnull())&(data.Initial=='Master'),'Age']=5\n",
    "data.loc[(data.Age.isnull())&(data.Initial=='Miss'),'Age']=22\n",
    "data.loc[(data.Age.isnull())&(data.Initial=='Other'),'Age']=46"
   ]
  },
  {
   "cell_type": "code",
   "execution_count": 12,
   "metadata": {},
   "outputs": [
    {
     "data": {
      "text/plain": [
       "False"
      ]
     },
     "execution_count": 12,
     "metadata": {},
     "output_type": "execute_result"
    }
   ],
   "source": [
    "data.Age.isnull().any() #So no null values left finally "
   ]
  },
  {
   "cell_type": "markdown",
   "metadata": {},
   "source": [
    "---\n",
    "### Feature: Embarked[^](#3_2_4)<a id=\"3_2_4\" ></a><br>\n",
    "**Meaning :** Port of Embarkation. C = Cherbourg, Q = Queenstown, S = Southampton"
   ]
  },
  {
   "cell_type": "code",
   "execution_count": 13,
   "metadata": {},
   "outputs": [
    {
     "data": {
      "image/png": "[encoded data removed]",
      "text/plain": [
       "<Figure size 864x360 with 2 Axes>"
      ]
     },
     "metadata": {
      "needs_background": "light"
     },
     "output_type": "display_data"
    }
   ],
   "source": [
    "f,ax=plt.subplots(1,2,figsize=(12,5))\n",
    "sns.countplot('Embarked',data=data,ax=ax[0])\n",
    "ax[0].set_title('No. Of Passengers Boarded')\n",
    "sns.countplot('Embarked',hue='Survived',data=data,ax=ax[1])\n",
    "ax[1].set_title('Embarked vs Survived')\n",
    "plt.subplots_adjust(wspace=0.2,hspace=0.5)\n",
    "plt.show()"
   ]
  },
  {
   "cell_type": "markdown",
   "metadata": {},
   "source": [
    "* Majority of passengers borded from Southampton\n",
    "* Survival counts looks better at C. Why?. Could there be an influence from sex and pclass features we already studied?. Let's find out "
   ]
  },
  {
   "cell_type": "code",
   "execution_count": 14,
   "metadata": {},
   "outputs": [
    {
     "data": {
      "image/png": "[encoded data removed]",
      "text/plain": [
       "<Figure size 864x360 with 2 Axes>"
      ]
     },
     "metadata": {
      "needs_background": "light"
     },
     "output_type": "display_data"
    }
   ],
   "source": [
    "f,ax=plt.subplots(1,2,figsize=(12,5))\n",
    "sns.countplot('Embarked',hue='Sex',data=data,ax=ax[0])\n",
    "ax[0].set_title('Male-Female Split for Embarked')\n",
    "sns.countplot('Embarked',hue='Pclass',data=data,ax=ax[1])\n",
    "ax[1].set_title('Embarked vs Pclass')\n",
    "plt.subplots_adjust(wspace=0.2,hspace=0.5)\n",
    "plt.show()"
   ]
  },
  {
   "cell_type": "markdown",
   "metadata": {},
   "source": [
    "* We guessed correctly. higher % of 1st class passegers boarding from C might be the reason."
   ]
  },
  {
   "cell_type": "markdown",
   "metadata": {},
   "source": [
    "#### Filling Embarked NaN"
   ]
  },
  {
   "cell_type": "code",
   "execution_count": 15,
   "metadata": {},
   "outputs": [
    {
     "data": {
      "image/png": "[encoded data removed]",
      "text/plain": [
       "<Figure size 432x360 with 1 Axes>"
      ]
     },
     "metadata": {},
     "output_type": "display_data"
    }
   ],
   "source": [
    "f,ax=plt.subplots(1,1,figsize=(6,5))\n",
    "data['Embarked'].value_counts().plot.pie(explode=[0,0,0],autopct='%1.1f%%',ax=ax)\n",
    "plt.show()"
   ]
  },
  {
   "cell_type": "markdown",
   "metadata": {},
   "source": [
    "* Since 72.5% passengers are from Southampton, So lets fill missing 2 values using S (Southampton)"
   ]
  },
  {
   "cell_type": "code",
   "execution_count": 16,
   "metadata": {},
   "outputs": [],
   "source": [
    "data['Embarked'].fillna('S',inplace=True)"
   ]
  },
  {
   "cell_type": "code",
   "execution_count": 17,
   "metadata": {},
   "outputs": [
    {
     "data": {
      "text/plain": [
       "False"
      ]
     },
     "execution_count": 17,
     "metadata": {},
     "output_type": "execute_result"
    }
   ],
   "source": [
    "data.Embarked.isnull().any()"
   ]
  },
  {
   "cell_type": "markdown",
   "metadata": {},
   "source": [
    "---\n",
    "### Features: SibSip & Parch[^](#3_2_5)<a id=\"3_2_5\" ></a><br>\n",
    "**Meaning :**  \n",
    "SibSip -> Number of siblings / spouses aboard the Titanic\n",
    "\n",
    "Parch -> Number of parents / children aboard the Titanic\n",
    "\n",
    "SibSip + Parch -> Family Size "
   ]
  },
  {
   "cell_type": "code",
   "execution_count": 18,
   "metadata": {},
   "outputs": [
    {
     "data": {
      "image/png": "[encoded data removed]",
      "text/plain": [
       "<Figure size 1080x720 with 4 Axes>"
      ]
     },
     "metadata": {
      "needs_background": "light"
     },
     "output_type": "display_data"
    }
   ],
   "source": [
    "f,ax=plt.subplots(2,2,figsize=(15,10))\n",
    "sns.countplot('SibSp',hue='Survived',data=data,ax=ax[0,0])\n",
    "ax[0,0].set_title('SibSp vs Survived')\n",
    "sns.barplot('SibSp','Survived',data=data,ax=ax[0,1])\n",
    "ax[0,1].set_title('SibSp vs Survived')\n",
    "\n",
    "sns.countplot('Parch',hue='Survived',data=data,ax=ax[1,0])\n",
    "ax[1,0].set_title('Parch vs Survived')\n",
    "sns.barplot('Parch','Survived',data=data,ax=ax[1,1])\n",
    "ax[1,1].set_title('Parch vs Survived')\n",
    "\n",
    "plt.subplots_adjust(wspace=0.2,hspace=0.5)\n",
    "plt.show()"
   ]
  },
  {
   "cell_type": "markdown",
   "metadata": {},
   "source": [
    "* The barplot and factorplot shows that if a passenger is alone onboard with no siblings, he have 34.5% survival rate. The graph roughly decreases if the number of siblings increase."
   ]
  },
  {
   "cell_type": "markdown",
   "metadata": {},
   "source": [
    "Lets combine above and analyse family size. "
   ]
  },
  {
   "cell_type": "code",
   "execution_count": 19,
   "metadata": {},
   "outputs": [
    {
     "data": {
      "image/png": "[encoded data removed]",
      "text/plain": [
       "<Figure size 1080x324 with 2 Axes>"
      ]
     },
     "metadata": {
      "needs_background": "light"
     },
     "output_type": "display_data"
    }
   ],
   "source": [
    "data['FamilySize'] = data['Parch'] + data['SibSp']\n",
    "f,ax=plt.subplots(1,2,figsize=(15,4.5))\n",
    "sns.countplot('FamilySize',hue='Survived',data=data,ax=ax[0])\n",
    "ax[0].set_title('FamilySize vs Survived')\n",
    "sns.barplot('FamilySize','Survived',data=data,ax=ax[1])\n",
    "ax[1].set_title('FamilySize vs Survived')\n",
    "plt.subplots_adjust(wspace=0.2,hspace=0.5)\n",
    "plt.show()"
   ]
  },
  {
   "cell_type": "markdown",
   "metadata": {},
   "source": [
    "* This looks interesting! looks like family sizes of 1-3 have better survival rates than others."
   ]
  },
  {
   "cell_type": "markdown",
   "metadata": {},
   "source": [
    "---\n",
    "### Fare[^](#3_2_6)<a id=\"3_2_6\" ></a><br>\n",
    "**Meaning :** Passenger fare"
   ]
  },
  {
   "cell_type": "code",
   "execution_count": 20,
   "metadata": {},
   "outputs": [
    {
     "data": {
      "image/png": "[encoded data removed]",
      "text/plain": [
       "<Figure size 1440x360 with 1 Axes>"
      ]
     },
     "metadata": {
      "needs_background": "light"
     },
     "output_type": "display_data"
    }
   ],
   "source": [
    "f,ax=plt.subplots(1,1,figsize=(20,5))\n",
    "sns.distplot(data.Fare,ax=ax)\n",
    "ax.set_title('Distribution of Fares')\n",
    "plt.show()"
   ]
  },
  {
   "cell_type": "code",
   "execution_count": 21,
   "metadata": {},
   "outputs": [
    {
     "name": "stdout",
     "output_type": "stream",
     "text": [
      "Highest Fare: 512.3292    Lowest Fare: 0.0     Average Fare: 32.2042079685746\n"
     ]
    },
    {
     "data": {
      "text/html": [
       "<style  type=\"text/css\" >\n",
       "    #T_ef428b7c_ac83_11e9_8bf1_63191df349afrow0_col0 {\n",
       "            background-color:  #f8fc66;\n",
       "        }    #T_ef428b7c_ac83_11e9_8bf1_63191df349afrow1_col0 {\n",
       "            background-color:  #ffff66;\n",
       "        }    #T_ef428b7c_ac83_11e9_8bf1_63191df349afrow2_col0 {\n",
       "            background-color:  #a7d366;\n",
       "        }    #T_ef428b7c_ac83_11e9_8bf1_63191df349afrow3_col0 {\n",
       "            background-color:  #84c266;\n",
       "        }    #T_ef428b7c_ac83_11e9_8bf1_63191df349afrow4_col0 {\n",
       "            background-color:  #8dc666;\n",
       "        }    #T_ef428b7c_ac83_11e9_8bf1_63191df349afrow5_col0 {\n",
       "            background-color:  #008066;\n",
       "        }</style>  \n",
       "<table id=\"T_ef428b7c_ac83_11e9_8bf1_63191df349af\" > \n",
       "<thead>    <tr> \n",
       "        <th class=\"blank level0\" ></th> \n",
       "        <th class=\"col_heading level0 col0\" >Survived</th> \n",
       "    </tr>    <tr> \n",
       "        <th class=\"index_name level0\" >Fare_Bin</th> \n",
       "        <th class=\"blank\" ></th> \n",
       "    </tr></thead> \n",
       "<tbody>    <tr> \n",
       "        <th id=\"T_ef428b7c_ac83_11e9_8bf1_63191df349aflevel0_row0\" class=\"row_heading level0 row0\" >(-0.001, 7.775]</th> \n",
       "        <td id=\"T_ef428b7c_ac83_11e9_8bf1_63191df349afrow0_col0\" class=\"data row0 col0\" >0.205128</td> \n",
       "    </tr>    <tr> \n",
       "        <th id=\"T_ef428b7c_ac83_11e9_8bf1_63191df349aflevel0_row1\" class=\"row_heading level0 row1\" >(7.775, 8.662]</th> \n",
       "        <td id=\"T_ef428b7c_ac83_11e9_8bf1_63191df349afrow1_col0\" class=\"data row1 col0\" >0.190789</td> \n",
       "    </tr>    <tr> \n",
       "        <th id=\"T_ef428b7c_ac83_11e9_8bf1_63191df349aflevel0_row2\" class=\"row_heading level0 row2\" >(8.662, 14.454]</th> \n",
       "        <td id=\"T_ef428b7c_ac83_11e9_8bf1_63191df349afrow2_col0\" class=\"data row2 col0\" >0.366906</td> \n",
       "    </tr>    <tr> \n",
       "        <th id=\"T_ef428b7c_ac83_11e9_8bf1_63191df349aflevel0_row3\" class=\"row_heading level0 row3\" >(14.454, 26.0]</th> \n",
       "        <td id=\"T_ef428b7c_ac83_11e9_8bf1_63191df349afrow3_col0\" class=\"data row3 col0\" >0.436242</td> \n",
       "    </tr>    <tr> \n",
       "        <th id=\"T_ef428b7c_ac83_11e9_8bf1_63191df349aflevel0_row4\" class=\"row_heading level0 row4\" >(26.0, 52.369]</th> \n",
       "        <td id=\"T_ef428b7c_ac83_11e9_8bf1_63191df349afrow4_col0\" class=\"data row4 col0\" >0.417808</td> \n",
       "    </tr>    <tr> \n",
       "        <th id=\"T_ef428b7c_ac83_11e9_8bf1_63191df349aflevel0_row5\" class=\"row_heading level0 row5\" >(52.369, 512.329]</th> \n",
       "        <td id=\"T_ef428b7c_ac83_11e9_8bf1_63191df349afrow5_col0\" class=\"data row5 col0\" >0.697987</td> \n",
       "    </tr></tbody> \n",
       "</table> "
      ],
      "text/plain": [
       "<pandas.io.formats.style.Styler at 0x7f7f519a4358>"
      ]
     },
     "execution_count": 21,
     "metadata": {},
     "output_type": "execute_result"
    }
   ],
   "source": [
    "print('Highest Fare:',data['Fare'].max(),'   Lowest Fare:',data['Fare'].min(),'    Average Fare:',data['Fare'].mean())\n",
    "data['Fare_Bin']=pd.qcut(data['Fare'],6)\n",
    "data.groupby(['Fare_Bin'])['Survived'].mean().to_frame().style.background_gradient(cmap='summer_r')"
   ]
  },
  {
   "cell_type": "markdown",
   "metadata": {},
   "source": [
    "* It is clear that as Fare Bins increase chances of survival increase too."
   ]
  },
  {
   "cell_type": "markdown",
   "metadata": {},
   "source": [
    "### Observations Summary[^](#3_3)<a id=\"3_3\" ></a><br>"
   ]
  },
  {
   "cell_type": "markdown",
   "metadata": {},
   "source": [
    "**Sex:** Survival chance for female is better than that for male.\n",
    "\n",
    "**Pclass:** Being a 1st class passenger gives you better chances of survival.\n",
    "\n",
    "**Age:** Age range 5-10 years have a high chance of survival.\n",
    "\n",
    "**Embarked:** Majority of passengers borded from Southampton.The chances of survival at C looks to be better than even though the majority of Pclass1 passengers got up at S. All most all Passengers at Q were from Pclass3.\n",
    "\n",
    "**Family Size:** looks like family sizes of 1-3 have better survival rates than others.\n",
    "\n",
    "**Fare:** As Fare Bins increase chances of survival increases\n",
    "\n"
   ]
  },
  {
   "cell_type": "markdown",
   "metadata": {},
   "source": [
    "### Correlation Between The Features[^](#3_4)<a id=\"3_4\" ></a><br>"
   ]
  },
  {
   "cell_type": "code",
   "execution_count": 22,
   "metadata": {},
   "outputs": [
    {
     "data": {
      "image/png": "[encoded data removed]",
      "text/plain": [
       "<Figure size 720x576 with 2 Axes>"
      ]
     },
     "metadata": {
      "needs_background": "light"
     },
     "output_type": "display_data"
    }
   ],
   "source": [
    "sns.heatmap(data.corr(),annot=True,cmap='RdYlGn',linewidths=0.2) #data.corr()-->correlation matrix\n",
    "fig=plt.gcf()\n",
    "fig.set_size_inches(10,8)\n",
    "plt.show()"
   ]
  },
  {
   "cell_type": "markdown",
   "metadata": {},
   "source": [
    "---\n",
    "# PART 2 : Feature Engineering and Data Cleaning[^](#4)<a id=\"4\" ></a><br>\n",
    "Now what is Feature Engineering? Feature engineering is the process of using domain knowledge of the data to create features that make machine learning algorithms work.\n",
    "\n",
    "In this section we will be doing,\n",
    "1. Converting String Values into Numeric\n",
    "1. Convert Age into a categorical feature by binning\n",
    "1. Convert Fare into a categorical feature by binning\n",
    "1. Dropping Unwanted Features\n"
   ]
  },
  {
   "cell_type": "markdown",
   "metadata": {},
   "source": [
    "#### Converting String Values into Numeric[^](#4_1)<a id=\"4_1\" ></a><br>\n",
    "Since we cannot pass strings to a machine learning model, we need to convert features Sex, Embarked, etc into numeric values."
   ]
  },
  {
   "cell_type": "code",
   "execution_count": 23,
   "metadata": {},
   "outputs": [],
   "source": [
    "data['Sex'].replace(['male','female'],[0,1],inplace=True)\n",
    "data['Embarked'].replace(['S','C','Q'],[0,1,2],inplace=True)\n",
    "data['Initial'].replace(['Mr','Mrs','Miss','Master','Other'],[0,1,2,3,4],inplace=True)"
   ]
  },
  {
   "cell_type": "markdown",
   "metadata": {},
   "source": [
    "#### Convert Age into a categorical feature by binning[^](#4_2)<a id=\"4_2\" ></a><br>"
   ]
  },
  {
   "cell_type": "code",
   "execution_count": 24,
   "metadata": {},
   "outputs": [
    {
     "name": "stdout",
     "output_type": "stream",
     "text": [
      "Highest Age: 80.0    Lowest Age: 0.42\n"
     ]
    }
   ],
   "source": [
    "print('Highest Age:',data['Age'].max(),'   Lowest Age:',data['Age'].min())"
   ]
  },
  {
   "cell_type": "code",
   "execution_count": 25,
   "metadata": {},
   "outputs": [],
   "source": [
    "data['Age_cat']=0\n",
    "data.loc[data['Age']<=16,'Age_cat']=0\n",
    "data.loc[(data['Age']>16)&(data['Age']<=32),'Age_cat']=1\n",
    "data.loc[(data['Age']>32)&(data['Age']<=48),'Age_cat']=2\n",
    "data.loc[(data['Age']>48)&(data['Age']<=64),'Age_cat']=3\n",
    "data.loc[data['Age']>64,'Age_cat']=4"
   ]
  },
  {
   "cell_type": "markdown",
   "metadata": {},
   "source": [
    "#### Convert Fare into a categorical feature by binning[^](#4_3)<a id=\"4_3\" ></a><br>"
   ]
  },
  {
   "cell_type": "code",
   "execution_count": 26,
   "metadata": {},
   "outputs": [],
   "source": [
    "data['Fare_cat']=0\n",
    "data.loc[data['Fare']<=7.775,'Fare_cat']=0\n",
    "data.loc[(data['Fare']>7.775)&(data['Fare']<=8.662),'Fare_cat']=1\n",
    "data.loc[(data['Fare']>8.662)&(data['Fare']<=14.454),'Fare_cat']=2\n",
    "data.loc[(data['Fare']>14.454)&(data['Fare']<=26.0),'Fare_cat']=3\n",
    "data.loc[(data['Fare']>26.0)&(data['Fare']<=52.369),'Fare_cat']=4\n",
    "data.loc[data['Fare']>52.369,'Fare_cat']=5"
   ]
  },
  {
   "cell_type": "markdown",
   "metadata": {},
   "source": [
    "#### Dropping Unwanted Features[^](#4_4)<a id=\"4_4\" ></a><br>\n",
    "\n",
    "Name--> We don't need name feature as it cannot be converted into any categorical value.\n",
    "\n",
    "Age--> We have the Age_cat feature, so no need of this.\n",
    "\n",
    "Ticket--> It is any random string that cannot be categorised.\n",
    "\n",
    "Fare--> We have the Fare_cat feature, so unneeded\n",
    "\n",
    "Cabin--> A lot of NaN values and also many passengers have multiple cabins. So this is a useless feature.\n",
    "\n",
    "Fare_Bin--> We have the fare_cat feature.\n",
    "\n",
    "PassengerId--> Cannot be categorised.\n",
    "\n",
    "Sibsp & Parch --> We got FamilySize feature\n"
   ]
  },
  {
   "cell_type": "code",
   "execution_count": 27,
   "metadata": {},
   "outputs": [],
   "source": [
    "#data.drop(['Name','Age','Ticket','Fare','Cabin','Fare_Range','PassengerId'],axis=1,inplace=True)\n",
    "data.drop(['Name','Age','Fare','Ticket','Cabin','Fare_Bin','SibSp','Parch','PassengerId'],axis=1,inplace=True)"
   ]
  },
  {
   "cell_type": "code",
   "execution_count": 28,
   "metadata": {},
   "outputs": [
    {
     "data": {
      "text/html": [
       "<div>\n",
       "<style scoped>\n",
       "    .dataframe tbody tr th:only-of-type {\n",
       "        vertical-align: middle;\n",
       "    }\n",
       "\n",
       "    .dataframe tbody tr th {\n",
       "        vertical-align: top;\n",
       "    }\n",
       "\n",
       "    .dataframe thead th {\n",
       "        text-align: right;\n",
       "    }\n",
       "</style>\n",
       "<table border=\"1\" class=\"dataframe\">\n",
       "  <thead>\n",
       "    <tr style=\"text-align: right;\">\n",
       "      <th></th>\n",
       "      <th>Survived</th>\n",
       "      <th>Pclass</th>\n",
       "      <th>Sex</th>\n",
       "      <th>Embarked</th>\n",
       "      <th>Initial</th>\n",
       "      <th>FamilySize</th>\n",
       "      <th>Age_cat</th>\n",
       "      <th>Fare_cat</th>\n",
       "    </tr>\n",
       "  </thead>\n",
       "  <tbody>\n",
       "    <tr>\n",
       "      <th>0</th>\n",
       "      <td>0</td>\n",
       "      <td>3</td>\n",
       "      <td>0</td>\n",
       "      <td>0</td>\n",
       "      <td>0</td>\n",
       "      <td>1</td>\n",
       "      <td>1</td>\n",
       "      <td>0</td>\n",
       "    </tr>\n",
       "    <tr>\n",
       "      <th>1</th>\n",
       "      <td>1</td>\n",
       "      <td>1</td>\n",
       "      <td>1</td>\n",
       "      <td>1</td>\n",
       "      <td>1</td>\n",
       "      <td>1</td>\n",
       "      <td>2</td>\n",
       "      <td>5</td>\n",
       "    </tr>\n",
       "  </tbody>\n",
       "</table>\n",
       "</div>"
      ],
      "text/plain": [
       "   Survived  Pclass  Sex    ...     FamilySize  Age_cat  Fare_cat\n",
       "0         0       3    0    ...              1        1         0\n",
       "1         1       1    1    ...              1        2         5\n",
       "\n",
       "[2 rows x 8 columns]"
      ]
     },
     "execution_count": 28,
     "metadata": {},
     "output_type": "execute_result"
    }
   ],
   "source": [
    "data.head(2)"
   ]
  },
  {
   "cell_type": "code",
   "execution_count": 29,
   "metadata": {},
   "outputs": [
    {
     "data": {
      "image/png": "[encoded data removed]",
      "text/plain": [
       "<Figure size 720x576 with 2 Axes>"
      ]
     },
     "metadata": {
      "needs_background": "light"
     },
     "output_type": "display_data"
    }
   ],
   "source": [
    "sns.heatmap(data.corr(),annot=True,cmap='RdYlGn',linewidths=0.2) #data.corr()-->correlation matrix\n",
    "fig=plt.gcf()\n",
    "fig.set_size_inches(10,8)\n",
    "plt.show()"
   ]
  },
  {
   "cell_type": "markdown",
   "metadata": {},
   "source": [
    "---\n",
    "# PART 3 : Predictive Modeling[^](#5)<a id=\"5\" ></a><br>\n"
   ]
  },
  {
   "cell_type": "markdown",
   "metadata": {},
   "source": [
    "Now after data cleaning and feature engineering we are ready to train some classification algorithms that will make predictions for unseen data. We will first train few classification algorithms and see how they perform. Then we can look how an ensemble of classification algorithms perform on this data set.\n",
    "Following Machine Learning algorithms will be used in this kernal.\n",
    "\n",
    "* Logistic Regression Classifier\n",
    "* Naive Bayes Classifier\n",
    "* Decision Tree Classifier\n",
    "* Random Forest Classifier\n"
   ]
  },
  {
   "cell_type": "code",
   "execution_count": 30,
   "metadata": {},
   "outputs": [],
   "source": [
    "#importing all the required ML packages\n",
    "from sklearn.linear_model import LogisticRegression #logistic regression\n",
    "from sklearn.ensemble import RandomForestClassifier #Random Forest\n",
    "from sklearn.naive_bayes import GaussianNB #Naive bayes\n",
    "from sklearn.tree import DecisionTreeClassifier #Decision Tree\n",
    "from sklearn.model_selection import train_test_split #training and testing data split\n",
    "from sklearn import metrics #accuracy measure\n",
    "from sklearn.metrics import confusion_matrix #for confusion matrix"
   ]
  },
  {
   "cell_type": "code",
   "execution_count": 31,
   "metadata": {},
   "outputs": [],
   "source": [
    "#Lets prepare data sets for training. \n",
    "train,test=train_test_split(data,test_size=0.3,random_state=0,stratify=data['Survived'])\n",
    "train_X=train[train.columns[1:]]\n",
    "train_Y=train[train.columns[:1]]\n",
    "test_X=test[test.columns[1:]]\n",
    "test_Y=test[test.columns[:1]]\n",
    "X=data[data.columns[1:]]\n",
    "Y=data['Survived']"
   ]
  },
  {
   "cell_type": "code",
   "execution_count": 32,
   "metadata": {},
   "outputs": [
    {
     "data": {
      "text/html": [
       "<div>\n",
       "<style scoped>\n",
       "    .dataframe tbody tr th:only-of-type {\n",
       "        vertical-align: middle;\n",
       "    }\n",
       "\n",
       "    .dataframe tbody tr th {\n",
       "        vertical-align: top;\n",
       "    }\n",
       "\n",
       "    .dataframe thead th {\n",
       "        text-align: right;\n",
       "    }\n",
       "</style>\n",
       "<table border=\"1\" class=\"dataframe\">\n",
       "  <thead>\n",
       "    <tr style=\"text-align: right;\">\n",
       "      <th></th>\n",
       "      <th>Survived</th>\n",
       "      <th>Pclass</th>\n",
       "      <th>Sex</th>\n",
       "      <th>Embarked</th>\n",
       "      <th>Initial</th>\n",
       "      <th>FamilySize</th>\n",
       "      <th>Age_cat</th>\n",
       "      <th>Fare_cat</th>\n",
       "    </tr>\n",
       "  </thead>\n",
       "  <tbody>\n",
       "    <tr>\n",
       "      <th>0</th>\n",
       "      <td>0</td>\n",
       "      <td>3</td>\n",
       "      <td>0</td>\n",
       "      <td>0</td>\n",
       "      <td>0</td>\n",
       "      <td>1</td>\n",
       "      <td>1</td>\n",
       "      <td>0</td>\n",
       "    </tr>\n",
       "    <tr>\n",
       "      <th>1</th>\n",
       "      <td>1</td>\n",
       "      <td>1</td>\n",
       "      <td>1</td>\n",
       "      <td>1</td>\n",
       "      <td>1</td>\n",
       "      <td>1</td>\n",
       "      <td>2</td>\n",
       "      <td>5</td>\n",
       "    </tr>\n",
       "  </tbody>\n",
       "</table>\n",
       "</div>"
      ],
      "text/plain": [
       "   Survived  Pclass  Sex    ...     FamilySize  Age_cat  Fare_cat\n",
       "0         0       3    0    ...              1        1         0\n",
       "1         1       1    1    ...              1        2         5\n",
       "\n",
       "[2 rows x 8 columns]"
      ]
     },
     "execution_count": 32,
     "metadata": {},
     "output_type": "execute_result"
    }
   ],
   "source": [
    "data.head(2)"
   ]
  },
  {
   "cell_type": "code",
   "execution_count": 33,
   "metadata": {},
   "outputs": [
    {
     "name": "stdout",
     "output_type": "stream",
     "text": [
      "The accuracy of the Logistic Regression model is \t 0.8134328358208955\n",
      "The accuracy of the NaiveBayes model is\t\t\t 0.8134328358208955\n",
      "The accuracy of the Decision Tree is \t\t\t 0.8097014925373134\n",
      "The accuracy of the Random Forests model is \t\t 0.8171641791044776\n"
     ]
    }
   ],
   "source": [
    "# Logistic Regression\n",
    "model = LogisticRegression(C=0.05,solver='liblinear')\n",
    "model.fit(train_X,train_Y.values.ravel())\n",
    "LR_prediction=model.predict(test_X)\n",
    "print('The accuracy of the Logistic Regression model is \\t',metrics.accuracy_score(LR_prediction,test_Y))\n",
    "\n",
    "# Naive Bayes\n",
    "model=GaussianNB()\n",
    "model.fit(train_X,train_Y.values.ravel())\n",
    "NB_prediction=model.predict(test_X)\n",
    "print('The accuracy of the NaiveBayes model is\\t\\t\\t',metrics.accuracy_score(NB_prediction,test_Y))\n",
    "\n",
    "# Decision Tree\n",
    "model=DecisionTreeClassifier()\n",
    "model.fit(train_X,train_Y)\n",
    "DT_prediction=model.predict(test_X)\n",
    "print('The accuracy of the Decision Tree is \\t\\t\\t',metrics.accuracy_score(DT_prediction,test_Y))\n",
    "\n",
    "# Random Forest\n",
    "model=RandomForestClassifier(n_estimators=100)\n",
    "model.fit(train_X,train_Y.values.ravel())\n",
    "RF_prediction=model.predict(test_X)\n",
    "print('The accuracy of the Random Forests model is \\t\\t',metrics.accuracy_score(RF_prediction,test_Y))"
   ]
  },
  {
   "cell_type": "markdown",
   "metadata": {},
   "source": [
    "### Cross Validation[^](#5_1)<a id=\"5_1\" ></a><br>\n",
    "\n",
    "Accuracy we get here higlhy depends on the train & test data split of the original data set. We can use cross validation to avoid such problems arising from dataset splitting.\n",
    "I am using K-fold cross validation here. Watch this short [vedio](https://www.youtube.com/watch?v=TIgfjmp-4BA) to understand what it is.\n"
   ]
  },
  {
   "cell_type": "code",
   "execution_count": 34,
   "metadata": {},
   "outputs": [
    {
     "data": {
      "text/html": [
       "<div>\n",
       "<style scoped>\n",
       "    .dataframe tbody tr th:only-of-type {\n",
       "        vertical-align: middle;\n",
       "    }\n",
       "\n",
       "    .dataframe tbody tr th {\n",
       "        vertical-align: top;\n",
       "    }\n",
       "\n",
       "    .dataframe thead th {\n",
       "        text-align: right;\n",
       "    }\n",
       "</style>\n",
       "<table border=\"1\" class=\"dataframe\">\n",
       "  <thead>\n",
       "    <tr style=\"text-align: right;\">\n",
       "      <th></th>\n",
       "      <th>CV Mean</th>\n",
       "      <th>Std</th>\n",
       "    </tr>\n",
       "  </thead>\n",
       "  <tbody>\n",
       "    <tr>\n",
       "      <th>Logistic Regression</th>\n",
       "      <td>0.798002</td>\n",
       "      <td>0.022233</td>\n",
       "    </tr>\n",
       "    <tr>\n",
       "      <th>Decision Tree</th>\n",
       "      <td>0.802484</td>\n",
       "      <td>0.047650</td>\n",
       "    </tr>\n",
       "    <tr>\n",
       "      <th>Naive Bayes</th>\n",
       "      <td>0.803608</td>\n",
       "      <td>0.040184</td>\n",
       "    </tr>\n",
       "    <tr>\n",
       "      <th>Random Forest</th>\n",
       "      <td>0.802509</td>\n",
       "      <td>0.042765</td>\n",
       "    </tr>\n",
       "  </tbody>\n",
       "</table>\n",
       "</div>"
      ],
      "text/plain": [
       "                      CV Mean       Std\n",
       "Logistic Regression  0.798002  0.022233\n",
       "Decision Tree        0.802484  0.047650\n",
       "Naive Bayes          0.803608  0.040184\n",
       "Random Forest        0.802509  0.042765"
      ]
     },
     "execution_count": 34,
     "metadata": {},
     "output_type": "execute_result"
    }
   ],
   "source": [
    "from sklearn.model_selection import KFold #for K-fold cross validation\n",
    "from sklearn.model_selection import cross_val_score #score evaluation\n",
    "from sklearn.model_selection import cross_val_predict #prediction\n",
    "kfold = KFold(n_splits=10, random_state=22) # k=10, split the data into 10 equal parts\n",
    "xyz=[]\n",
    "accuracy=[]\n",
    "std=[]\n",
    "classifiers=['Logistic Regression','Decision Tree','Naive Bayes','Random Forest']\n",
    "models=[LogisticRegression(solver='liblinear'),DecisionTreeClassifier(),GaussianNB(),RandomForestClassifier(n_estimators=100)]\n",
    "for i in models:\n",
    "    model = i\n",
    "    cv_result = cross_val_score(model,X,Y, cv = kfold,scoring = \"accuracy\")\n",
    "    xyz.append(cv_result.mean())\n",
    "    std.append(cv_result.std())\n",
    "    accuracy.append(cv_result)\n",
    "new_models_dataframe2=pd.DataFrame({'CV Mean':xyz,'Std':std},index=classifiers)       \n",
    "new_models_dataframe2"
   ]
  },
  {
   "cell_type": "markdown",
   "metadata": {},
   "source": [
    "Now we have looked at cross validation accuracies to get an idea how those models work. There is more we can do to understand the performances of the models we tried ; let's have a look at confusion matrix for each model."
   ]
  },
  {
   "cell_type": "markdown",
   "metadata": {},
   "source": [
    "### Confusion Matrices[^](#5_2)<a id=\"5_2\" ></a><br>"
   ]
  },
  {
   "cell_type": "markdown",
   "metadata": {},
   "source": [
    "A confusion matrix is a table that is often used to describe the performance of a classification model. read more [here](https://www.dataschool.io/simple-guide-to-confusion-matrix-terminology/)"
   ]
  },
  {
   "cell_type": "code",
   "execution_count": 35,
   "metadata": {},
   "outputs": [
    {
     "data": {
      "image/png": "[encoded data removed]",
      "text/plain": [
       "<Figure size 720x576 with 8 Axes>"
      ]
     },
     "metadata": {
      "needs_background": "light"
     },
     "output_type": "display_data"
    }
   ],
   "source": [
    "f,ax=plt.subplots(2,2,figsize=(10,8))\n",
    "y_pred = cross_val_predict(LogisticRegression(C=0.05,solver='liblinear'),X,Y,cv=10)\n",
    "sns.heatmap(confusion_matrix(Y,y_pred),ax=ax[0,0],annot=True,fmt='2.0f')\n",
    "ax[0,0].set_title('Matrix for Logistic Regression')\n",
    "y_pred = cross_val_predict(DecisionTreeClassifier(),X,Y,cv=10)\n",
    "sns.heatmap(confusion_matrix(Y,y_pred),ax=ax[0,1],annot=True,fmt='2.0f')\n",
    "ax[0,1].set_title('Matrix for Decision Tree')\n",
    "y_pred = cross_val_predict(GaussianNB(),X,Y,cv=10)\n",
    "sns.heatmap(confusion_matrix(Y,y_pred),ax=ax[1,0],annot=True,fmt='2.0f')\n",
    "ax[1,0].set_title('Matrix for Naive Bayes')\n",
    "y_pred = cross_val_predict(RandomForestClassifier(n_estimators=100),X,Y,cv=10)\n",
    "sns.heatmap(confusion_matrix(Y,y_pred),ax=ax[1,1],annot=True,fmt='2.0f')\n",
    "ax[1,1].set_title('Matrix for Random-Forests')\n",
    "plt.subplots_adjust(hspace=0.2,wspace=0.2)\n",
    "plt.show()"
   ]
  },
  {
   "cell_type": "markdown",
   "metadata": {},
   "source": [
    "* By looking at above matrices we can say that, if we are more concerned on making less mistakes by predicting survived as dead, then Naive Bayes model does better.\n",
    "* If we are more concerned on making less mistakes by predicting dead as survived, then Decision Tree model does better."
   ]
  },
  {
   "cell_type": "markdown",
   "metadata": {},
   "source": [
    "### Hyper-Parameters Tuning[^](#5_3)<a id=\"5_3\" ></a><br>\n",
    "\n",
    "You might have noticed there are few parameters for each model which defines how the model learns. We call these hyperparameters. These hyperparameters can be tuned to improve performance. Let's try this for Random Forest classifier."
   ]
  },
  {
   "cell_type": "code",
   "execution_count": 36,
   "metadata": {},
   "outputs": [
    {
     "name": "stdout",
     "output_type": "stream",
     "text": [
      "Fitting 10 folds for each of 9 candidates, totalling 90 fits\n"
     ]
    },
    {
     "name": "stderr",
     "output_type": "stream",
     "text": [
      "[Parallel(n_jobs=1)]: Using backend SequentialBackend with 1 concurrent workers.\n"
     ]
    },
    {
     "name": "stdout",
     "output_type": "stream",
     "text": [
      "0.8125701459034792\n",
      "RandomForestClassifier(bootstrap=True, class_weight=None, criterion='gini',\n",
      "                       max_depth=None, max_features='auto', max_leaf_nodes=None,\n",
      "                       min_impurity_decrease=0.0, min_impurity_split=None,\n",
      "                       min_samples_leaf=1, min_samples_split=2,\n",
      "                       min_weight_fraction_leaf=0.0, n_estimators=100,\n",
      "                       n_jobs=None, oob_score=False, random_state=0, verbose=0,\n",
      "                       warm_start=False)\n"
     ]
    },
    {
     "name": "stderr",
     "output_type": "stream",
     "text": [
      "[Parallel(n_jobs=1)]: Done  90 out of  90 | elapsed:   55.4s finished\n"
     ]
    }
   ],
   "source": [
    "from sklearn.model_selection import GridSearchCV\n",
    "n_estimators=range(100,1000,100)\n",
    "hyper={'n_estimators':n_estimators}\n",
    "gd=GridSearchCV(estimator=RandomForestClassifier(random_state=0),param_grid=hyper,verbose=True,cv=10)\n",
    "gd.fit(X,Y)\n",
    "print(gd.best_score_)\n",
    "print(gd.best_estimator_)"
   ]
  },
  {
   "cell_type": "markdown",
   "metadata": {},
   "source": [
    "* Best Score for Random Forest is with n_estimators=100"
   ]
  },
  {
   "cell_type": "markdown",
   "metadata": {},
   "source": [
    "### Ensembling[^](#5_4)<a id=\"5_4\" ></a><br>\n",
    "\n",
    "Ensembling is a way to increase performance of a model by combining several simple models to create a single powerful model.\n",
    "read more about ensembling [here](https://www.analyticsvidhya.com/blog/2018/06/comprehensive-guide-for-ensemble-models/).\n",
    "Ensembling can be done in ways like: Voting Classifier, Bagging, Boosting.\n",
    "\n",
    "I will use voting method in this kernal"
   ]
  },
  {
   "cell_type": "code",
   "execution_count": 37,
   "metadata": {},
   "outputs": [
    {
     "name": "stdout",
     "output_type": "stream",
     "text": [
      "The accuracy for ensembled model is: 0.8097014925373134\n",
      "The cross validated score is 0.803603166496425\n"
     ]
    }
   ],
   "source": [
    "from sklearn.ensemble import VotingClassifier\n",
    "estimators=[('RFor',RandomForestClassifier(n_estimators=100,random_state=0)),\n",
    "            ('LR',LogisticRegression(C=0.05,solver='liblinear')),\n",
    "            ('DT',DecisionTreeClassifier()),\n",
    "            ('NB',GaussianNB())]\n",
    "ensemble=VotingClassifier(estimators=estimators,voting='soft')\n",
    "ensemble.fit(train_X,train_Y.values.ravel())\n",
    "print('The accuracy for ensembled model is:',ensemble.score(test_X,test_Y))\n",
    "cross=cross_val_score(ensemble,X,Y, cv = 10,scoring = \"accuracy\")\n",
    "print('The cross validated score is',cross.mean())"
   ]
  },
  {
   "cell_type": "markdown",
   "metadata": {},
   "source": [
    "### Prediction[^](#5_5)<a id=\"5_5\" ></a><br>\n",
    "\n",
    "We can see that ensemble model does better than individual models. lets use that for predictions."
   ]
  },
  {
   "cell_type": "code",
   "execution_count": 38,
   "metadata": {},
   "outputs": [
    {
     "data": {
      "text/plain": [
       "VotingClassifier(estimators=[('RFor',\n",
       "                              RandomForestClassifier(bootstrap=True,\n",
       "                                                     class_weight=None,\n",
       "                                                     criterion='gini',\n",
       "                                                     max_depth=None,\n",
       "                                                     max_features='auto',\n",
       "                                                     max_leaf_nodes=None,\n",
       "                                                     min_impurity_decrease=0.0,\n",
       "                                                     min_impurity_split=None,\n",
       "                                                     min_samples_leaf=1,\n",
       "                                                     min_samples_split=2,\n",
       "                                                     min_weight_fraction_leaf=0.0,\n",
       "                                                     n_estimators=200,\n",
       "                                                     n_jobs=None,\n",
       "                                                     oob_score=False,\n",
       "                                                     random_state=0, verbose...\n",
       "                              DecisionTreeClassifier(class_weight=None,\n",
       "                                                     criterion='gini',\n",
       "                                                     max_depth=None,\n",
       "                                                     max_features=None,\n",
       "                                                     max_leaf_nodes=None,\n",
       "                                                     min_impurity_decrease=0.0,\n",
       "                                                     min_impurity_split=None,\n",
       "                                                     min_samples_leaf=1,\n",
       "                                                     min_samples_split=2,\n",
       "                                                     min_weight_fraction_leaf=0.0,\n",
       "                                                     presort=False,\n",
       "                                                     random_state=0,\n",
       "                                                     splitter='best')),\n",
       "                             ('NB',\n",
       "                              GaussianNB(priors=None, var_smoothing=1e-09))],\n",
       "                 flatten_transform=True, n_jobs=None, voting='soft',\n",
       "                 weights=None)"
      ]
     },
     "execution_count": 38,
     "metadata": {},
     "output_type": "execute_result"
    }
   ],
   "source": [
    "Ensemble_Model_For_Prediction=VotingClassifier(estimators=[\n",
    "                                       ('RFor',RandomForestClassifier(n_estimators=200,random_state=0)),\n",
    "                                       ('LR',LogisticRegression(C=0.05,solver='liblinear')),\n",
    "                                       ('DT',DecisionTreeClassifier(random_state=0)),\n",
    "                                       ('NB',GaussianNB())\n",
    "                                             ], \n",
    "                       voting='soft')\n",
    "Ensemble_Model_For_Prediction.fit(X,Y)"
   ]
  },
  {
   "cell_type": "markdown",
   "metadata": {},
   "source": [
    "We need to  do some preprocessing to  this test data set before we can feed that to the trained model."
   ]
  },
  {
   "cell_type": "code",
   "execution_count": 39,
   "metadata": {},
   "outputs": [
    {
     "data": {
      "text/html": [
       "<div>\n",
       "<style scoped>\n",
       "    .dataframe tbody tr th:only-of-type {\n",
       "        vertical-align: middle;\n",
       "    }\n",
       "\n",
       "    .dataframe tbody tr th {\n",
       "        vertical-align: top;\n",
       "    }\n",
       "\n",
       "    .dataframe thead th {\n",
       "        text-align: right;\n",
       "    }\n",
       "</style>\n",
       "<table border=\"1\" class=\"dataframe\">\n",
       "  <thead>\n",
       "    <tr style=\"text-align: right;\">\n",
       "      <th></th>\n",
       "      <th>PassengerId</th>\n",
       "      <th>Pclass</th>\n",
       "      <th>Name</th>\n",
       "      <th>Sex</th>\n",
       "      <th>Age</th>\n",
       "      <th>SibSp</th>\n",
       "      <th>Parch</th>\n",
       "      <th>Ticket</th>\n",
       "      <th>Fare</th>\n",
       "      <th>Cabin</th>\n",
       "      <th>Embarked</th>\n",
       "    </tr>\n",
       "  </thead>\n",
       "  <tbody>\n",
       "    <tr>\n",
       "      <th>0</th>\n",
       "      <td>892</td>\n",
       "      <td>3</td>\n",
       "      <td>Kelly, Mr. James</td>\n",
       "      <td>male</td>\n",
       "      <td>34.5</td>\n",
       "      <td>0</td>\n",
       "      <td>0</td>\n",
       "      <td>330911</td>\n",
       "      <td>7.8292</td>\n",
       "      <td>NaN</td>\n",
       "      <td>Q</td>\n",
       "    </tr>\n",
       "    <tr>\n",
       "      <th>1</th>\n",
       "      <td>893</td>\n",
       "      <td>3</td>\n",
       "      <td>Wilkes, Mrs. James (Ellen Needs)</td>\n",
       "      <td>female</td>\n",
       "      <td>47.0</td>\n",
       "      <td>1</td>\n",
       "      <td>0</td>\n",
       "      <td>363272</td>\n",
       "      <td>7.0000</td>\n",
       "      <td>NaN</td>\n",
       "      <td>S</td>\n",
       "    </tr>\n",
       "  </tbody>\n",
       "</table>\n",
       "</div>"
      ],
      "text/plain": [
       "   PassengerId  Pclass   ...    Cabin Embarked\n",
       "0          892       3   ...      NaN        Q\n",
       "1          893       3   ...      NaN        S\n",
       "\n",
       "[2 rows x 11 columns]"
      ]
     },
     "execution_count": 39,
     "metadata": {},
     "output_type": "execute_result"
    }
   ],
   "source": [
    "test=pd.read_csv('../input/test.csv')\n",
    "IDtest = test[\"PassengerId\"]\n",
    "test.head(2)"
   ]
  },
  {
   "cell_type": "code",
   "execution_count": 40,
   "metadata": {},
   "outputs": [
    {
     "data": {
      "text/plain": [
       "PassengerId      0\n",
       "Pclass           0\n",
       "Name             0\n",
       "Sex              0\n",
       "Age             86\n",
       "SibSp            0\n",
       "Parch            0\n",
       "Ticket           0\n",
       "Fare             1\n",
       "Cabin          327\n",
       "Embarked         0\n",
       "dtype: int64"
      ]
     },
     "execution_count": 40,
     "metadata": {},
     "output_type": "execute_result"
    }
   ],
   "source": [
    "test.isnull().sum()"
   ]
  },
  {
   "cell_type": "code",
   "execution_count": 41,
   "metadata": {},
   "outputs": [
    {
     "data": {
      "text/html": [
       "<div>\n",
       "<style scoped>\n",
       "    .dataframe tbody tr th:only-of-type {\n",
       "        vertical-align: middle;\n",
       "    }\n",
       "\n",
       "    .dataframe tbody tr th {\n",
       "        vertical-align: top;\n",
       "    }\n",
       "\n",
       "    .dataframe thead th {\n",
       "        text-align: right;\n",
       "    }\n",
       "</style>\n",
       "<table border=\"1\" class=\"dataframe\">\n",
       "  <thead>\n",
       "    <tr style=\"text-align: right;\">\n",
       "      <th></th>\n",
       "      <th>Pclass</th>\n",
       "      <th>Sex</th>\n",
       "      <th>Embarked</th>\n",
       "      <th>Initial</th>\n",
       "      <th>Age_cat</th>\n",
       "      <th>Fare_cat</th>\n",
       "      <th>FamilySize</th>\n",
       "    </tr>\n",
       "  </thead>\n",
       "  <tbody>\n",
       "    <tr>\n",
       "      <th>0</th>\n",
       "      <td>3</td>\n",
       "      <td>0</td>\n",
       "      <td>2</td>\n",
       "      <td>0</td>\n",
       "      <td>2</td>\n",
       "      <td>1</td>\n",
       "      <td>0</td>\n",
       "    </tr>\n",
       "    <tr>\n",
       "      <th>1</th>\n",
       "      <td>3</td>\n",
       "      <td>1</td>\n",
       "      <td>0</td>\n",
       "      <td>1</td>\n",
       "      <td>2</td>\n",
       "      <td>0</td>\n",
       "      <td>1</td>\n",
       "    </tr>\n",
       "  </tbody>\n",
       "</table>\n",
       "</div>"
      ],
      "text/plain": [
       "   Pclass  Sex  Embarked  Initial  Age_cat  Fare_cat  FamilySize\n",
       "0       3    0         2        0        2         1           0\n",
       "1       3    1         0        1        2         0           1"
      ]
     },
     "execution_count": 41,
     "metadata": {},
     "output_type": "execute_result"
    }
   ],
   "source": [
    "# Prepare Test Data set for feeding\n",
    "\n",
    "# Construct feature Initial\n",
    "test['Initial']=0\n",
    "for i in test:\n",
    "    test['Initial']=test.Name.str.extract('([A-Za-z]+)\\.') #lets extract the Salutations\n",
    "    \n",
    "test['Initial'].replace(['Mlle','Mme','Ms','Dr','Major','Lady','Countess','Jonkheer','Col','Rev','Capt','Sir','Don','Dona'],['Miss','Miss','Miss','Mr','Mr','Mrs','Mrs','Other','Other','Other','Mr','Mr','Mr','Other'],inplace=True)\n",
    "\n",
    "# Fill Null values in Age Column\n",
    "test.loc[(test.Age.isnull())&(test.Initial=='Mr'),'Age']=33\n",
    "test.loc[(test.Age.isnull())&(test.Initial=='Mrs'),'Age']=36\n",
    "test.loc[(test.Age.isnull())&(test.Initial=='Master'),'Age']=5\n",
    "test.loc[(test.Age.isnull())&(test.Initial=='Miss'),'Age']=22\n",
    "test.loc[(test.Age.isnull())&(test.Initial=='Other'),'Age']=46\n",
    "\n",
    "# Fill Null values in Fare Column\n",
    "test.loc[(test.Fare.isnull()) & (test['Pclass']==3),'Fare'] = 12.45\n",
    "\n",
    "# Construct feature Age_cat\n",
    "test['Age_cat']=0\n",
    "test.loc[test['Age']<=16,'Age_cat']=0\n",
    "test.loc[(test['Age']>16)&(test['Age']<=32),'Age_cat']=1\n",
    "test.loc[(test['Age']>32)&(test['Age']<=48),'Age_cat']=2\n",
    "test.loc[(test['Age']>48)&(test['Age']<=64),'Age_cat']=3\n",
    "test.loc[test['Age']>64,'Age_cat']=4\n",
    "\n",
    "# Construct feature Fare_cat\n",
    "test['Fare_cat']=0\n",
    "test.loc[test['Fare']<=7.775,'Fare_cat']=0\n",
    "test.loc[(test['Fare']>7.775)&(test['Fare']<=8.662),'Fare_cat']=1\n",
    "test.loc[(test['Fare']>8.662)&(test['Fare']<=14.454),'Fare_cat']=2\n",
    "test.loc[(test['Fare']>14.454)&(test['Fare']<=26.0),'Fare_cat']=3\n",
    "test.loc[(test['Fare']>26.0)&(test['Fare']<=52.369),'Fare_cat']=4\n",
    "test.loc[test['Fare']>52.369,'Fare_cat']=5\n",
    "\n",
    "# Construct feature FamilySize\n",
    "test['FamilySize'] = test['Parch'] + test['SibSp']\n",
    "\n",
    "# Drop unwanted features\n",
    "test.drop(['Name','Age','Ticket','Cabin','SibSp','Parch','Fare','PassengerId'],axis=1,inplace=True)\n",
    "\n",
    "# Converting String Values into Numeric \n",
    "test['Sex'].replace(['male','female'],[0,1],inplace=True)\n",
    "test['Embarked'].replace(['S','C','Q'],[0,1,2],inplace=True)\n",
    "test['Initial'].replace(['Mr','Mrs','Miss','Master','Other'],[0,1,2,3,4],inplace=True)\n",
    "\n",
    "test.head(2)"
   ]
  },
  {
   "cell_type": "code",
   "execution_count": 42,
   "metadata": {},
   "outputs": [],
   "source": [
    "# Predict\n",
    "test_Survived = pd.Series(ensemble.predict(test), name=\"Survived\")\n",
    "results = pd.concat([IDtest,test_Survived],axis=1)\n",
    "results.to_csv(\"predictions.csv\",index=False)"
   ]
  },
  {
   "cell_type": "markdown",
   "metadata": {},
   "source": [
    "## Feature Importance[^](#6)<a id=\"6\" ></a><br>\n",
    "\n",
    "Well after we have trained a model to make predictions for us, we feel curiuos on how it works. What are the features model weights more when trying to make a prediction?. As humans we seek to understand how it works. Looking at feature importances of a trained model is one way we could explain the decisions it make. Lets visualize the feature importances of the Random forest model we used inside the ensemble above."
   ]
  },
  {
   "cell_type": "code",
   "execution_count": 43,
   "metadata": {},
   "outputs": [
    {
     "data": {
      "image/png": "[encoded data removed]",
      "text/plain": [
       "<Figure size 432x432 with 1 Axes>"
      ]
     },
     "metadata": {
      "needs_background": "light"
     },
     "output_type": "display_data"
    }
   ],
   "source": [
    "f,ax=plt.subplots(1,1,figsize=(6,6))\n",
    "model=RandomForestClassifier(n_estimators=500,random_state=0)\n",
    "model.fit(X,Y)\n",
    "pd.Series(model.feature_importances_,X.columns).sort_values(ascending=True).plot.barh(width=0.8,ax=ax)\n",
    "ax.set_title('Feature Importance in Random Forests')\n",
    "plt.show()"
   ]
  },
  {
   "cell_type": "markdown",
   "metadata": {},
   "source": [
    "---\n",
    "## So That is it...\n",
    "\n",
    "Its Simple isnt it?.\n",
    "\n",
    "We started from **<span style=\"color:blue\">EDA</span>** to see what the data can tell us. Then we moved to **<span style=\"color:green\">Feature Engineering and Data Cleaning</span>** step where we added few features, Removed redundant features, Converted features into suitable form for modeling. Finally in the **<span style=\"color:red\">Predictive Modeling</span>** part we tried basic ML algorthms, cross validated, ensemble and Important feature Extraction.\n",
    "\n",
    "Thanks a lot for reading!\n",
    "See you! :)"
   ]
  },
  {
   "cell_type": "markdown",
   "metadata": {},
   "source": [
    "**If You Like the notebook and think that it helped you..PLEASE UPVOTE. It will keep me motivated**"
   ]
  }
 ],
 "metadata": {
  "kernelspec": {
   "display_name": "Python 3",
   "language": "python",
   "name": "python3"
  },
  "language_info": {
   "codemirror_mode": {
    "name": "ipython",
    "version": 3
   },
   "file_extension": ".py",
   "mimetype": "text/x-python",
   "name": "python",
   "nbconvert_exporter": "python",
   "pygments_lexer": "ipython3",
   "version": "3.6.6"
  }
 },
 "nbformat": 4,
 "nbformat_minor": 1
}
